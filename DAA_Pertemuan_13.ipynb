{
  "nbformat": 4,
  "nbformat_minor": 0,
  "metadata": {
    "colab": {
      "name": "DAA_Pertemuan_13.ipynb",
      "provenance": [],
      "collapsed_sections": [],
      "authorship_tag": "ABX9TyM0p5K3aOnzbxCy7TVaEgr9",
      "include_colab_link": true
    },
    "kernelspec": {
      "name": "python3",
      "display_name": "Python 3"
    },
    "language_info": {
      "name": "python"
    }
  },
  "cells": [
    {
      "cell_type": "markdown",
      "metadata": {
        "id": "view-in-github",
        "colab_type": "text"
      },
      "source": [
        "<a href=\"https://colab.research.google.com/github/Piluthfi/Desain-dan-Analisis-Algoritma/blob/main/DAA_Pertemuan_13.ipynb\" target=\"_parent\"><img src=\"https://colab.research.google.com/assets/colab-badge.svg\" alt=\"Open In Colab\"/></a>"
      ]
    },
    {
      "cell_type": "code",
      "metadata": {
        "id": "3Ac4udUmSczJ"
      },
      "source": [
        "def bfs(graph, start):\n",
        "    visited = []\n",
        "    queue = [start]\n",
        "\n",
        "    while queue:\n",
        "        node = queue.pop(0)\n",
        "        if node not in visited:\n",
        "            visited.append(node)\n",
        "            neighbours = graph[node]\n",
        "            for neighbour in neighbours:\n",
        "                queue.append(neighbour)\n",
        "    return visited"
      ],
      "execution_count": 1,
      "outputs": []
    },
    {
      "cell_type": "code",
      "metadata": {
        "id": "m-TH5rTiTI3e"
      },
      "source": [
        "graph={ 'Amin' : {'Wasim', 'Nick', 'Mike'},\n",
        "          'Wasim' : {'Imran', 'Amin'},\n",
        "          'Imran' : {'Wasim', 'Faras'},\n",
        "          'Faras' : {'Imran'},\n",
        "          'Mike' : {'Amin'},\n",
        "          'Nick' : {'Amin'}}"
      ],
      "execution_count": 2,
      "outputs": []
    },
    {
      "cell_type": "code",
      "metadata": {
        "colab": {
          "base_uri": "https://localhost:8080/"
        },
        "id": "G8RcAXwBTOkB",
        "outputId": "11c563e0-c242-4647-96ba-2e403673e107"
      },
      "source": [
        "bfs(graph,'Amin')"
      ],
      "execution_count": 3,
      "outputs": [
        {
          "output_type": "execute_result",
          "data": {
            "text/plain": [
              "['Amin', 'Nick', 'Mike', 'Wasim', 'Imran', 'Faras']"
            ]
          },
          "metadata": {},
          "execution_count": 3
        }
      ]
    },
    {
      "cell_type": "code",
      "metadata": {
        "colab": {
          "base_uri": "https://localhost:8080/"
        },
        "id": "PDzcGgZYTrIi",
        "outputId": "a06583da-873b-42ef-b070-e915d4f62b34"
      },
      "source": [
        "# o amin -------------\n",
        "# |         |         |\n",
        "# o wasim   o nick    o mike\n",
        "# |\n",
        "# o imran\n",
        "# |\n",
        "# o faras\n",
        "\n",
        "bfs(graph, 'Amin')"
      ],
      "execution_count": 4,
      "outputs": [
        {
          "output_type": "execute_result",
          "data": {
            "text/plain": [
              "['Amin', 'Nick', 'Mike', 'Wasim', 'Imran', 'Faras']"
            ]
          },
          "metadata": {},
          "execution_count": 4
        }
      ]
    },
    {
      "cell_type": "code",
      "metadata": {
        "colab": {
          "base_uri": "https://localhost:8080/"
        },
        "id": "2HFXHgRQUEdO",
        "outputId": "e309ab85-cf48-4c52-8ca8-b5fa47ae2cbb"
      },
      "source": [
        "# o wasim ----\n",
        "# |          |\n",
        "# o imran    o amin ----\n",
        "# |          |         |\n",
        "# o faras    o nick    o mike\n",
        "\n",
        "bfs(graph, 'Wasim')"
      ],
      "execution_count": 5,
      "outputs": [
        {
          "output_type": "execute_result",
          "data": {
            "text/plain": [
              "['Wasim', 'Imran', 'Amin', 'Faras', 'Nick', 'Mike']"
            ]
          },
          "metadata": {},
          "execution_count": 5
        }
      ]
    },
    {
      "cell_type": "code",
      "metadata": {
        "colab": {
          "base_uri": "https://localhost:8080/"
        },
        "id": "3LVDRFxVUbQI",
        "outputId": "3ecfda3b-85bf-491a-dfe8-1925c03039e2"
      },
      "source": [
        "# o fars\n",
        "# | \n",
        "# o imran \n",
        "# |\n",
        "# o wasim  o nick  o mike\n",
        "# |        |       |\n",
        "# o amin ----------\n",
        "\n",
        "bfs(graph, 'Faras')"
      ],
      "execution_count": 6,
      "outputs": [
        {
          "output_type": "execute_result",
          "data": {
            "text/plain": [
              "['Faras', 'Imran', 'Wasim', 'Amin', 'Nick', 'Mike']"
            ]
          },
          "metadata": {},
          "execution_count": 6
        }
      ]
    },
    {
      "cell_type": "code",
      "metadata": {
        "id": "8FCC1H8RU9vJ"
      },
      "source": [
        "def bfs(graph, start):\n",
        "    visited = []\n",
        "    queue = [start]\n",
        "\n",
        "    while queue:\n",
        "        node = queue.pop(0)\n",
        "        if node not in visited:\n",
        "            visited.append(node)\n",
        "            neighbours = graph[node]\n",
        "            for neighbour in neighbours:\n",
        "                queue.append(neighbour)\n",
        "    return visited"
      ],
      "execution_count": 7,
      "outputs": []
    },
    {
      "cell_type": "code",
      "metadata": {
        "id": "T0JerjqWVRKU"
      },
      "source": [
        "graph={ 'Rektor' : {'Warek1', 'Warek2'},\n",
        "          'Warek1' : {'Rektor'},\n",
        "          'Warek2' : {'Kaprodi1', 'Kaprodi2', 'Kaprodi3', 'Rektor'},\n",
        "          'Kaprodi1' : {'DosenA', 'Warek2'},\n",
        "          'DosenA' : {'Kaprodi1', 'DosenB'},\n",
        "          'DosenB' : {'DosenD', 'DosenC'},\n",
        "          'DosenC' : {'DosenB'},\n",
        "          'Kaprodi2' : {'Warek2', 'DosenD'},\n",
        "          'DosenD' : {'Kaprodi2', 'DosenE'},\n",
        "          'DosenE' : {'DosenD'},\n",
        "          'Kaprodi3' : {'Warek2', 'DosenF'},\n",
        "          'DosenF' : {'Kaprodi3', 'DosenG'},\n",
        "          'DosenG' : {'DosenF'}}"
      ],
      "execution_count": 8,
      "outputs": []
    },
    {
      "cell_type": "code",
      "metadata": {
        "colab": {
          "base_uri": "https://localhost:8080/"
        },
        "id": "pbryI-cCVTdH",
        "outputId": "21d0f2a6-c98d-4d00-8e39-a0bd1e6f1e0b"
      },
      "source": [
        "bfs(graph, 'Rektor')"
      ],
      "execution_count": 9,
      "outputs": [
        {
          "output_type": "execute_result",
          "data": {
            "text/plain": [
              "['Rektor',\n",
              " 'Warek1',\n",
              " 'Warek2',\n",
              " 'Kaprodi3',\n",
              " 'Kaprodi1',\n",
              " 'Kaprodi2',\n",
              " 'DosenF',\n",
              " 'DosenA',\n",
              " 'DosenD',\n",
              " 'DosenG',\n",
              " 'DosenB',\n",
              " 'DosenE',\n",
              " 'DosenC']"
            ]
          },
          "metadata": {},
          "execution_count": 9
        }
      ]
    },
    {
      "cell_type": "code",
      "metadata": {
        "colab": {
          "base_uri": "https://localhost:8080/"
        },
        "id": "gLdEThADVYSa",
        "outputId": "85980e87-d13b-4692-b1ff-f70d9c41eaa7"
      },
      "source": [
        "bfs(graph, 'Warek1')"
      ],
      "execution_count": 10,
      "outputs": [
        {
          "output_type": "execute_result",
          "data": {
            "text/plain": [
              "['Warek1',\n",
              " 'Rektor',\n",
              " 'Warek2',\n",
              " 'Kaprodi3',\n",
              " 'Kaprodi1',\n",
              " 'Kaprodi2',\n",
              " 'DosenF',\n",
              " 'DosenA',\n",
              " 'DosenD',\n",
              " 'DosenG',\n",
              " 'DosenB',\n",
              " 'DosenE',\n",
              " 'DosenC']"
            ]
          },
          "metadata": {},
          "execution_count": 10
        }
      ]
    },
    {
      "cell_type": "code",
      "metadata": {
        "id": "jFZnJt9yVctG"
      },
      "source": [
        "def dfs(graph, start, visited=None):\n",
        "    if visited is None:\n",
        "        visited = set()\n",
        "    visited.add(start)\n",
        "    print(start)\n",
        "    for next in graph[start] - visited:\n",
        "          dfs(graph, next, visited)\n",
        "    return visited"
      ],
      "execution_count": 11,
      "outputs": []
    },
    {
      "cell_type": "code",
      "metadata": {
        "id": "Jq2bidVEVpnH"
      },
      "source": [
        "graph={ 'Amin' : {'Wasim', 'Nick', 'Mike'},\n",
        "          'Wasim' : {'Imran', 'Amin'},\n",
        "          'Imran' : {'Wasim', 'Faras'},\n",
        "          'Faras' : {'Imran'},\n",
        "          'Mike' : {'Amin'},\n",
        "          'Nick' : {'Amin'}}"
      ],
      "execution_count": 12,
      "outputs": []
    },
    {
      "cell_type": "code",
      "metadata": {
        "id": "B2ePBOhqVvvA"
      },
      "source": [
        "dfs(graph, 'Amin')"
      ],
      "execution_count": null,
      "outputs": []
    },
    {
      "cell_type": "code",
      "metadata": {
        "colab": {
          "base_uri": "https://localhost:8080/"
        },
        "id": "edmcM7LeV2HO",
        "outputId": "0ee8b467-a925-476e-a781-a56d48179e43"
      },
      "source": [
        "# o amin -------------\n",
        "# |         |         |\n",
        "# o wasim   o nick    o mike\n",
        "# |\n",
        "# o imran\n",
        "# |\n",
        "# o faras\n",
        "#\n",
        "# turun dari amin ke faras, geser ke nick & mike\n",
        "\n",
        "dfs(graph, 'Amin')"
      ],
      "execution_count": 15,
      "outputs": [
        {
          "output_type": "stream",
          "name": "stdout",
          "text": [
            "Amin\n",
            "Nick\n",
            "Mike\n",
            "Wasim\n",
            "Imran\n",
            "Faras\n"
          ]
        },
        {
          "output_type": "execute_result",
          "data": {
            "text/plain": [
              "{'Amin', 'Faras', 'Imran', 'Mike', 'Nick', 'Wasim'}"
            ]
          },
          "metadata": {},
          "execution_count": 15
        }
      ]
    },
    {
      "cell_type": "code",
      "metadata": {
        "colab": {
          "base_uri": "https://localhost:8080/"
        },
        "id": "3oKTi6cOWMmE",
        "outputId": "5736e021-2442-4943-bcc9-b94002bae75d"
      },
      "source": [
        "# o amin -------------\n",
        "# |         |         |\n",
        "# o wasim   o nick    o mike\n",
        "# |\n",
        "# o imran\n",
        "# |\n",
        "# o faras\n",
        "#\n",
        "# turun dari wasim ke faras, naik ke amin, geser ke nick & mike\n",
        "\n",
        "dfs(graph, 'Wasim')"
      ],
      "execution_count": 17,
      "outputs": [
        {
          "output_type": "stream",
          "name": "stdout",
          "text": [
            "Wasim\n",
            "Imran\n",
            "Faras\n",
            "Amin\n",
            "Nick\n",
            "Mike\n"
          ]
        },
        {
          "output_type": "execute_result",
          "data": {
            "text/plain": [
              "{'Amin', 'Faras', 'Imran', 'Mike', 'Nick', 'Wasim'}"
            ]
          },
          "metadata": {},
          "execution_count": 16
        },
        {
          "output_type": "stream",
          "name": "stdout",
          "text": [
            "Wasim\n",
            "Imran\n",
            "Faras\n",
            "Amin\n",
            "Nick\n",
            "Mike\n"
          ]
        },
        {
          "output_type": "execute_result",
          "data": {
            "text/plain": [
              "{'Amin', 'Faras', 'Imran', 'Mike', 'Nick', 'Wasim'}"
            ]
          },
          "metadata": {},
          "execution_count": 17
        }
      ]
    },
    {
      "cell_type": "code",
      "metadata": {
        "colab": {
          "base_uri": "https://localhost:8080/"
        },
        "id": "eoyDhxS_W4F7",
        "outputId": "850c5222-87d4-4248-fba4-7859f5d3caa8"
      },
      "source": [
        "# o amin -------------\n",
        "# |         |         |\n",
        "# o wasim   o nick    o mike\n",
        "# |\n",
        "# o imran\n",
        "# |\n",
        "# o faras\n",
        "#\n",
        "# naik dari faras ke amin, geser ke nick & mike\n",
        "\n",
        "dfs(graph, 'Faras')"
      ],
      "execution_count": 18,
      "outputs": [
        {
          "output_type": "stream",
          "name": "stdout",
          "text": [
            "Faras\n",
            "Imran\n",
            "Wasim\n",
            "Amin\n",
            "Nick\n",
            "Mike\n"
          ]
        },
        {
          "output_type": "execute_result",
          "data": {
            "text/plain": [
              "{'Amin', 'Faras', 'Imran', 'Mike', 'Nick', 'Wasim'}"
            ]
          },
          "metadata": {},
          "execution_count": 18
        }
      ]
    },
    {
      "cell_type": "code",
      "metadata": {
        "colab": {
          "base_uri": "https://localhost:8080/"
        },
        "id": "jpwPy8vtXGpn",
        "outputId": "66d84e19-505e-4a6d-d1e6-16c3713628dc"
      },
      "source": [
        "# o amin -------------\n",
        "# |         |         |\n",
        "# o wasim   o nick    o mike\n",
        "# |\n",
        "# o imran\n",
        "# |\n",
        "# o faras\n",
        "#\n",
        "# naik nick ke amin, turun ke faras, geser ke mike\n",
        "\n",
        "dfs(graph, 'Nick')"
      ],
      "execution_count": 19,
      "outputs": [
        {
          "output_type": "stream",
          "name": "stdout",
          "text": [
            "Nick\n",
            "Amin\n",
            "Mike\n",
            "Wasim\n",
            "Imran\n",
            "Faras\n"
          ]
        },
        {
          "output_type": "execute_result",
          "data": {
            "text/plain": [
              "{'Amin', 'Faras', 'Imran', 'Mike', 'Nick', 'Wasim'}"
            ]
          },
          "metadata": {},
          "execution_count": 19
        }
      ]
    }
  ]
}