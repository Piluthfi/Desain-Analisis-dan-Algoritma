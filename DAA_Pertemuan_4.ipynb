{
  "nbformat": 4,
  "nbformat_minor": 0,
  "metadata": {
    "colab": {
      "name": "DAA_Pertemuan 4.ipynb",
      "provenance": [],
      "authorship_tag": "ABX9TyNThGLJ53ZzBNpF38yWLnqv",
      "include_colab_link": true
    },
    "kernelspec": {
      "name": "python3",
      "display_name": "Python 3"
    },
    "language_info": {
      "name": "python"
    }
  },
  "cells": [
    {
      "cell_type": "markdown",
      "metadata": {
        "id": "view-in-github",
        "colab_type": "text"
      },
      "source": [
        "<a href=\"https://colab.research.google.com/github/Piluthfi/Desain-Analisis-dan-Algoritma/blob/main/DAA_Pertemuan_4.ipynb\" target=\"_parent\"><img src=\"https://colab.research.google.com/assets/colab-badge.svg\" alt=\"Open In Colab\"/></a>"
      ]
    },
    {
      "cell_type": "code",
      "metadata": {
        "colab": {
          "base_uri": "https://localhost:8080/"
        },
        "id": "LB_phDywha_p",
        "outputId": "466e1a6e-aed9-43e2-b138-1265fc5e7391"
      },
      "source": [
        "#swap function\n",
        "var1 = 1\n",
        "var2 = 2\n",
        "var1,var2 = var2,var1\n",
        "print(var1,var2)"
      ],
      "execution_count": null,
      "outputs": [
        {
          "output_type": "stream",
          "name": "stdout",
          "text": [
            "2 1\n"
          ]
        }
      ]
    },
    {
      "cell_type": "code",
      "metadata": {
        "colab": {
          "base_uri": "https://localhost:8080/"
        },
        "id": "s67mH0pDh2k6",
        "outputId": "916b57f0-008a-4c52-c9a2-b07d151ccff9"
      },
      "source": [
        "var1 = 1\n",
        "var2 = 2\n",
        "var3 = 3\n",
        "var1,var2,var3 = var3,var2,var1\n",
        "print(var1,var2,var3)"
      ],
      "execution_count": null,
      "outputs": [
        {
          "output_type": "stream",
          "name": "stdout",
          "text": [
            "3 2 1\n"
          ]
        }
      ]
    },
    {
      "cell_type": "code",
      "metadata": {
        "id": "Yh8dL-0l856x"
      },
      "source": [
        "list = [25,21,22,24,23,27,26]\n",
        "#modifikasi sesuai angka favorit anda"
      ],
      "execution_count": 1,
      "outputs": []
    },
    {
      "cell_type": "code",
      "metadata": {
        "colab": {
          "base_uri": "https://localhost:8080/"
        },
        "id": "uOQ_cnlJ9Xsy",
        "outputId": "0f36b64e-ee4b-469d-c747-cff723f45859"
      },
      "source": [
        "lastElementIndex = len(list)-1\n",
        "print(0,list)\n",
        "for idx in range(lastElementIndex):\n",
        "                if list[idx]>list[idx+1]:\n",
        "                    list[idx],list[idx+1]=list[idx+1],list[idx]\n",
        "                print(idx+1,list)"
      ],
      "execution_count": 3,
      "outputs": [
        {
          "output_type": "stream",
          "name": "stdout",
          "text": [
            "0 [25, 21, 22, 24, 23, 27, 26]\n",
            "1 [21, 25, 22, 24, 23, 27, 26]\n",
            "2 [21, 22, 25, 24, 23, 27, 26]\n",
            "3 [21, 22, 24, 25, 23, 27, 26]\n",
            "4 [21, 22, 24, 23, 25, 27, 26]\n",
            "5 [21, 22, 24, 23, 25, 27, 26]\n",
            "6 [21, 22, 24, 23, 25, 26, 27]\n"
          ]
        }
      ]
    },
    {
      "cell_type": "code",
      "metadata": {
        "id": "zuvTivDg9_cv"
      },
      "source": [
        "def BubbleSort(list):\n",
        "# Exchange the elements to arrange in order\n",
        "  lastElementIndex = len(list)-1\n",
        "  for passNo in range(lastElementIndex,0,-1):\n",
        "      for idx in range(passNo):\n",
        "          if list[idx]>list[idx+1]:\n",
        "              list[idx],list[idx+1]=list[idx+1],list[idx]\n",
        "  return list"
      ],
      "execution_count": 5,
      "outputs": []
    },
    {
      "cell_type": "code",
      "metadata": {
        "colab": {
          "base_uri": "https://localhost:8080/"
        },
        "id": "4CoLgXpY_djE",
        "outputId": "163802c7-ffbc-432a-a3ed-f988a216742a"
      },
      "source": [
        "list"
      ],
      "execution_count": 6,
      "outputs": [
        {
          "output_type": "execute_result",
          "data": {
            "text/plain": [
              "[21, 22, 24, 23, 25, 26, 27]"
            ]
          },
          "metadata": {},
          "execution_count": 6
        }
      ]
    },
    {
      "cell_type": "code",
      "metadata": {
        "id": "ZEt3_E7x_gaV"
      },
      "source": [
        "def BubbleSort(list):\n",
        "# Exchange the elements to arrange in order\n",
        "  lastElementIndex = len(list)-1\n",
        "  for passNo in range(lastElementIndex,0,-1):\n",
        "      for idx in range(passNo):\n",
        "          if list[idx]>list[idx+1]:\n",
        "              list[idx],list[idx+1]=list[idx+1],list[idx]\n",
        "  return list"
      ],
      "execution_count": 7,
      "outputs": []
    },
    {
      "cell_type": "code",
      "metadata": {
        "id": "e9zIm88-_3VA"
      },
      "source": [
        "# masukan angka dengan urutan lainnya\n",
        "list = [25,21,22,24,23,27,26]"
      ],
      "execution_count": 8,
      "outputs": []
    },
    {
      "cell_type": "code",
      "metadata": {
        "colab": {
          "base_uri": "https://localhost:8080/"
        },
        "id": "E03Mmdk-AB-5",
        "outputId": "af32ccee-ee08-4d8a-f2c5-5e5ee421349b"
      },
      "source": [
        "BubbleSort(list)"
      ],
      "execution_count": 9,
      "outputs": [
        {
          "output_type": "execute_result",
          "data": {
            "text/plain": [
              "[21, 22, 23, 24, 25, 26, 27]"
            ]
          },
          "metadata": {},
          "execution_count": 9
        }
      ]
    },
    {
      "cell_type": "code",
      "metadata": {
        "colab": {
          "base_uri": "https://localhost:8080/"
        },
        "id": "hDimfoHzAF5b",
        "outputId": "ca4e5edd-6a78-4463-ce3a-d9652ba53ad3"
      },
      "source": [
        "list"
      ],
      "execution_count": 10,
      "outputs": [
        {
          "output_type": "execute_result",
          "data": {
            "text/plain": [
              "[21, 22, 23, 24, 25, 26, 27]"
            ]
          },
          "metadata": {},
          "execution_count": 10
        }
      ]
    },
    {
      "cell_type": "code",
      "metadata": {
        "id": "TeDligO5BbOf"
      },
      "source": [
        "list = [100,20,60,90,40,30,10]"
      ],
      "execution_count": 11,
      "outputs": []
    },
    {
      "cell_type": "code",
      "metadata": {
        "colab": {
          "base_uri": "https://localhost:8080/"
        },
        "id": "GccYpn9OBoCS",
        "outputId": "2c2eb284-a563-4283-c4ac-e1fa412585df"
      },
      "source": [
        "lastElementIndex = len(list)-1\n",
        "print(0,list)\n",
        "for idx in range(lastElementIndex):\n",
        "                if list[idx]>list[idx+1]:\n",
        "                    list[idx],list[idx+1]=list[idx+1],list[idx]\n",
        "                print(idx+1,list)"
      ],
      "execution_count": 12,
      "outputs": [
        {
          "output_type": "stream",
          "name": "stdout",
          "text": [
            "0 [100, 20, 60, 90, 40, 30, 10]\n",
            "1 [20, 100, 60, 90, 40, 30, 10]\n",
            "2 [20, 60, 100, 90, 40, 30, 10]\n",
            "3 [20, 60, 90, 100, 40, 30, 10]\n",
            "4 [20, 60, 90, 40, 100, 30, 10]\n",
            "5 [20, 60, 90, 40, 30, 100, 10]\n",
            "6 [20, 60, 90, 40, 30, 10, 100]\n"
          ]
        }
      ]
    },
    {
      "cell_type": "code",
      "metadata": {
        "id": "PJ3cuVirCFFW"
      },
      "source": [
        "def BubbleSort(list):\n",
        "# Exchange the elements to arrange in order\n",
        "  lastElementIndex = len(list)-1\n",
        "  for passNo in range(lastElementIndex,0,-1):\n",
        "      for idx in range(passNo):\n",
        "          if list[idx]>list[idx+1]:\n",
        "              list[idx],list[idx+1]=list[idx+1],list[idx]\n",
        "  return list"
      ],
      "execution_count": 13,
      "outputs": []
    },
    {
      "cell_type": "code",
      "metadata": {
        "colab": {
          "base_uri": "https://localhost:8080/"
        },
        "id": "KVYWYFU8CGes",
        "outputId": "a16fd1d1-acd2-479a-df7a-04119cf2a4d1"
      },
      "source": [
        "list"
      ],
      "execution_count": 14,
      "outputs": [
        {
          "output_type": "execute_result",
          "data": {
            "text/plain": [
              "[20, 60, 90, 40, 30, 10, 100]"
            ]
          },
          "metadata": {},
          "execution_count": 14
        }
      ]
    },
    {
      "cell_type": "code",
      "metadata": {
        "id": "us1Iz2HmCLJk"
      },
      "source": [
        "def BubbleSort(list):\n",
        "# Exchange the elements to arrange in order\n",
        "  lastElementIndex = len(list)-1\n",
        "  for passNo in range(lastElementIndex,0,-1):\n",
        "      for idx in range(passNo):\n",
        "          if list[idx]>list[idx+1]:\n",
        "              list[idx],list[idx+1]=list[idx+1],list[idx]\n",
        "  return list"
      ],
      "execution_count": 15,
      "outputs": []
    },
    {
      "cell_type": "code",
      "metadata": {
        "id": "kWBkvf-pCPqG"
      },
      "source": [
        "list = [100,20,60,90,40,30,10]"
      ],
      "execution_count": 16,
      "outputs": []
    },
    {
      "cell_type": "code",
      "metadata": {
        "colab": {
          "base_uri": "https://localhost:8080/"
        },
        "id": "zcqYYZ0lCT-5",
        "outputId": "73106fbe-a700-4bde-94c8-08d50702b8b6"
      },
      "source": [
        "BubbleSort(list)"
      ],
      "execution_count": 17,
      "outputs": [
        {
          "output_type": "execute_result",
          "data": {
            "text/plain": [
              "[10, 20, 30, 40, 60, 90, 100]"
            ]
          },
          "metadata": {},
          "execution_count": 17
        }
      ]
    },
    {
      "cell_type": "code",
      "metadata": {
        "colab": {
          "base_uri": "https://localhost:8080/"
        },
        "id": "9Zc_j_eQCZku",
        "outputId": "1e5fbfda-2f98-4f38-c4bb-59a3ecad3f8f"
      },
      "source": [
        "list"
      ],
      "execution_count": 18,
      "outputs": [
        {
          "output_type": "execute_result",
          "data": {
            "text/plain": [
              "[10, 20, 30, 40, 60, 90, 100]"
            ]
          },
          "metadata": {},
          "execution_count": 18
        }
      ]
    },
    {
      "cell_type": "code",
      "metadata": {
        "id": "AjkN4v7cCuwY"
      },
      "source": [
        "def InsertionSort(list):\n",
        "    for i in range(1, len(list)):\n",
        "        j = i-1\n",
        "        next = list[i]\n",
        "# Compare the current element with next one\n",
        "        while (list[j] > next) and (j >= 0):\n",
        "            list[j+1] = list[j]\n",
        "            j=j-1\n",
        "            list[j+1] = next\n",
        "    return list"
      ],
      "execution_count": 23,
      "outputs": []
    },
    {
      "cell_type": "code",
      "metadata": {
        "id": "5yM8uyehDi52"
      },
      "source": [
        "# Masukan angka dengan urutan lainnya\n",
        "list = [35,31,32,34,33,37,36]"
      ],
      "execution_count": 24,
      "outputs": []
    },
    {
      "cell_type": "code",
      "metadata": {
        "colab": {
          "base_uri": "https://localhost:8080/"
        },
        "id": "ZEUrnXeeDreP",
        "outputId": "56ec22b9-1733-49c4-bc87-4c1363d6ccff"
      },
      "source": [
        "list"
      ],
      "execution_count": 25,
      "outputs": [
        {
          "output_type": "execute_result",
          "data": {
            "text/plain": [
              "[35, 31, 32, 34, 33, 37, 36]"
            ]
          },
          "metadata": {},
          "execution_count": 25
        }
      ]
    },
    {
      "cell_type": "code",
      "metadata": {
        "colab": {
          "base_uri": "https://localhost:8080/"
        },
        "id": "hFTDs_HLDuKe",
        "outputId": "55f55e78-0bd8-4242-cd5f-cbc39303bc56"
      },
      "source": [
        "InsertionSort(list)"
      ],
      "execution_count": 26,
      "outputs": [
        {
          "output_type": "execute_result",
          "data": {
            "text/plain": [
              "[31, 32, 33, 34, 35, 36, 37]"
            ]
          },
          "metadata": {},
          "execution_count": 26
        }
      ]
    },
    {
      "cell_type": "code",
      "metadata": {
        "colab": {
          "base_uri": "https://localhost:8080/"
        },
        "id": "c67y0K3iFV6t",
        "outputId": "eacde719-327e-4a34-9573-c91cb1efa939"
      },
      "source": [
        "list"
      ],
      "execution_count": 27,
      "outputs": [
        {
          "output_type": "execute_result",
          "data": {
            "text/plain": [
              "[31, 32, 33, 34, 35, 36, 37]"
            ]
          },
          "metadata": {},
          "execution_count": 27
        }
      ]
    },
    {
      "cell_type": "code",
      "metadata": {
        "id": "SLaf15XnGVsb"
      },
      "source": [
        "list = [25,26,22,24,27,23,21]"
      ],
      "execution_count": 28,
      "outputs": []
    },
    {
      "cell_type": "code",
      "metadata": {
        "colab": {
          "base_uri": "https://localhost:8080/"
        },
        "id": "O9RBirfSGcCA",
        "outputId": "5af1bdf3-5232-492a-b774-e2023724fb9c"
      },
      "source": [
        "InsertionSort(list)\n",
        "print(list)"
      ],
      "execution_count": 29,
      "outputs": [
        {
          "output_type": "stream",
          "name": "stdout",
          "text": [
            "[21, 22, 23, 24, 25, 26, 27]\n"
          ]
        }
      ]
    },
    {
      "cell_type": "code",
      "metadata": {
        "id": "qOoeVzWxGuUq"
      },
      "source": [
        "list = [89,12,57,16,25,11,75]"
      ],
      "execution_count": 30,
      "outputs": []
    },
    {
      "cell_type": "code",
      "metadata": {
        "colab": {
          "base_uri": "https://localhost:8080/"
        },
        "id": "eF-XlTyqG1vj",
        "outputId": "4f426dc6-d281-4599-bbb0-db16bb4cd27b"
      },
      "source": [
        "InsertionSort(list)\n",
        "print(list)"
      ],
      "execution_count": 31,
      "outputs": [
        {
          "output_type": "stream",
          "name": "stdout",
          "text": [
            "[11, 12, 16, 25, 57, 75, 89]\n"
          ]
        }
      ]
    },
    {
      "cell_type": "code",
      "metadata": {
        "id": "w0pbKWpJMgTn"
      },
      "source": [
        "def SelectionSort(list):\n",
        "    for fill_slot in range(len(list) -1,0, -1):\n",
        "        max_index = 0\n",
        "        for location in range(1, fill_slot +1):\n",
        "            if list[location] > list[max_index]:\n",
        "                max_index = location\n",
        "        list[fill_slot],list[max_index] = list[max_index],list[fill_slot]\n",
        "    return list"
      ],
      "execution_count": 49,
      "outputs": []
    },
    {
      "cell_type": "code",
      "metadata": {
        "id": "M5gxfORKNtBm"
      },
      "source": [
        "list = [70,15,25,19,34,44]"
      ],
      "execution_count": 50,
      "outputs": []
    },
    {
      "cell_type": "code",
      "metadata": {
        "colab": {
          "base_uri": "https://localhost:8080/"
        },
        "id": "CPF3yX0cN_7Z",
        "outputId": "7455cb76-5252-4590-a4cc-6126008b0fd0"
      },
      "source": [
        "SelectionSort(list)"
      ],
      "execution_count": 51,
      "outputs": [
        {
          "output_type": "execute_result",
          "data": {
            "text/plain": [
              "[15, 19, 25, 34, 44, 70]"
            ]
          },
          "metadata": {},
          "execution_count": 51
        }
      ]
    },
    {
      "cell_type": "code",
      "metadata": {
        "id": "W3y04t5pd4tS"
      },
      "source": [
        "list = [89,12,57,16,25]"
      ],
      "execution_count": 52,
      "outputs": []
    },
    {
      "cell_type": "code",
      "metadata": {
        "colab": {
          "base_uri": "https://localhost:8080/"
        },
        "id": "OOAXZz8Od-pE",
        "outputId": "dcce5d9e-a25f-4acb-c8ed-1e915eef5db0"
      },
      "source": [
        "SelectionSort(list)"
      ],
      "execution_count": 53,
      "outputs": [
        {
          "output_type": "execute_result",
          "data": {
            "text/plain": [
              "[12, 16, 25, 57, 89]"
            ]
          },
          "metadata": {},
          "execution_count": 53
        }
      ]
    },
    {
      "cell_type": "code",
      "metadata": {
        "id": "tuxT75hCbyr5"
      },
      "source": [
        "def LinearSearch(list, item):\n",
        "    index = 0\n",
        "    found = False\n",
        "\n",
        "# Cocokkan nilai dengan setiap pernyataan data\n",
        "    while index < len(list) and found is False:\n",
        "        if list[index] == item:\n",
        "            found = True\n",
        "        else:\n",
        "            index = index + 1\n",
        "    return found"
      ],
      "execution_count": 54,
      "outputs": []
    },
    {
      "cell_type": "code",
      "metadata": {
        "colab": {
          "base_uri": "https://localhost:8080/"
        },
        "id": "l5YXt119eMSS",
        "outputId": "d91ab274-8239-46f8-aa7a-e3e4cf6e155f"
      },
      "source": [
        "list = [12, 33, 11, 99, 22, 55, 90]\n",
        "print(LinearSearch(list, 12))\n",
        "print(LinearSearch(list, 91))"
      ],
      "execution_count": 55,
      "outputs": [
        {
          "output_type": "stream",
          "name": "stdout",
          "text": [
            "True\n",
            "False\n"
          ]
        }
      ]
    },
    {
      "cell_type": "code",
      "metadata": {
        "colab": {
          "base_uri": "https://localhost:8080/"
        },
        "id": "RhYbUcNFeQB6",
        "outputId": "a51867ae-4758-4372-c6f4-10acacfc9118"
      },
      "source": [
        "deret = ['y', 'u', 'i', 'w', 'o', 'q', 'u', 'j', 'p']\n",
        "print(LinearSearch(deret, 'a'))"
      ],
      "execution_count": 57,
      "outputs": [
        {
          "output_type": "stream",
          "name": "stdout",
          "text": [
            "False\n"
          ]
        }
      ]
    },
    {
      "cell_type": "code",
      "metadata": {
        "id": "OWzNS9ldeciR"
      },
      "source": [
        "def BinarySearch(list, item):\n",
        "    first = 0\n",
        "    last = len(list)-1\n",
        "    found = False\n",
        "    \n",
        "    while first<=last and not found:\n",
        "        midpoint = (first + last)//2\n",
        "        if list[midpoint] == item:\n",
        "            found = True\n",
        "        else:\n",
        "            if item < list[midpoint]:\n",
        "                last = midpoint-1\n",
        "            else:\n",
        "                first = midpoint-1\n",
        "    return found"
      ],
      "execution_count": 58,
      "outputs": []
    },
    {
      "cell_type": "code",
      "metadata": {
        "colab": {
          "base_uri": "https://localhost:8080/"
        },
        "id": "zK2C8UcEeiG1",
        "outputId": "b606d08a-7544-484a-c621-00a833ef8e19"
      },
      "source": [
        "list = ['y', 'u', 'i', 'w', 'o', 'a', 'q', 'u', 'j', 'p']\n",
        "sorted_list = BubbleSort(list)\n",
        "print(BinarySearch(list, 'a'))"
      ],
      "execution_count": 59,
      "outputs": [
        {
          "output_type": "stream",
          "name": "stdout",
          "text": [
            "True\n"
          ]
        }
      ]
    },
    {
      "cell_type": "code",
      "metadata": {
        "id": "06anJOXwes4D"
      },
      "source": [
        "def IntPolsearch(list,x ):\n",
        "  idx0 = 0\n",
        "  idxn = (len(list) - 1)\n",
        "  found = False\n",
        "  while idx0 <= idxn and x >= list[idx0] and x <= list[idxn]:\n",
        "\n",
        "# Temukan titik tengahnya\n",
        "      mid = idx0 + int(((float(idxn - idx0)/( list[idxn] - list[idx0])) * ( x - list[idx0])))\n",
        "\n",
        "# bandingkan nilai pada titik tengah dengan nilai pencarian\n",
        "      if list[mid] == x:\n",
        "          found = True\n",
        "          return found\n",
        "\n",
        "      if list[mid] < x:\n",
        "          idx0 = mid + 1\n",
        "  return found"
      ],
      "execution_count": 60,
      "outputs": []
    },
    {
      "cell_type": "code",
      "metadata": {
        "colab": {
          "base_uri": "https://localhost:8080/"
        },
        "id": "vWxBsbrIev-R",
        "outputId": "06b6df75-2dbd-4e26-f5e6-18f6ec92af54"
      },
      "source": [
        "list = [12, 33, 11, 99, 22, 55, 90]\n",
        "sorted_list = BubbleSort(list)\n",
        "print(IntPolsearch(list, 12))\n",
        "print(IntPolsearch(list, 91))"
      ],
      "execution_count": 67,
      "outputs": [
        {
          "output_type": "stream",
          "name": "stdout",
          "text": [
            "True\n",
            "False\n"
          ]
        }
      ]
    }
  ]
}