{
  "nbformat": 4,
  "nbformat_minor": 0,
  "metadata": {
    "colab": {
      "name": "Insertion Sort.ipynb",
      "provenance": [],
      "authorship_tag": "ABX9TyOpWIAZ47ERfyIpEqiB6MY+",
      "include_colab_link": true
    },
    "kernelspec": {
      "name": "python3",
      "display_name": "Python 3"
    },
    "language_info": {
      "name": "python"
    }
  },
  "cells": [
    {
      "cell_type": "markdown",
      "metadata": {
        "id": "view-in-github",
        "colab_type": "text"
      },
      "source": [
        "<a href=\"https://colab.research.google.com/github/Piluthfi/Desain-dan-Analisis-Algoritma/blob/main/Insertion_Sort.ipynb\" target=\"_parent\"><img src=\"https://colab.research.google.com/assets/colab-badge.svg\" alt=\"Open In Colab\"/></a>"
      ]
    },
    {
      "cell_type": "code",
      "execution_count": 1,
      "metadata": {
        "id": "qguKxbJJ4HSF"
      },
      "outputs": [],
      "source": [
        "def InsertionSort(list):\n",
        "    for i in range(1, len(list)):\n",
        "        j = i-1\n",
        "        next = list[i]\n",
        "# Compare the current element with next one\n",
        "        while (list[j] > next) and (j >= 0):\n",
        "            list[j+1] = list[j]\n",
        "            j=j-1\n",
        "            list[j+1] = next\n",
        "    return list"
      ]
    },
    {
      "cell_type": "code",
      "source": [
        "# Masukan angka dengan urutan lainnya\n",
        "list = [43,37,36,40,39,38,42,41,23,20,35,12,13,51,22,21,25,27,31,34,32,33,5,3,6,1,7,8,4,9,10,11,19,18,17,55,59,60,63,65]"
      ],
      "metadata": {
        "id": "z-WKDQol4fxp"
      },
      "execution_count": 2,
      "outputs": []
    },
    {
      "cell_type": "code",
      "source": [
        "list"
      ],
      "metadata": {
        "colab": {
          "base_uri": "https://localhost:8080/"
        },
        "id": "i7fSlWz84oNC",
        "outputId": "850f8b07-aa08-4156-aa3c-70cf5150f148"
      },
      "execution_count": 3,
      "outputs": [
        {
          "output_type": "execute_result",
          "data": {
            "text/plain": [
              "[43,\n",
              " 37,\n",
              " 36,\n",
              " 40,\n",
              " 39,\n",
              " 38,\n",
              " 42,\n",
              " 41,\n",
              " 23,\n",
              " 20,\n",
              " 35,\n",
              " 12,\n",
              " 13,\n",
              " 51,\n",
              " 22,\n",
              " 21,\n",
              " 25,\n",
              " 27,\n",
              " 31,\n",
              " 34,\n",
              " 32,\n",
              " 33,\n",
              " 5,\n",
              " 3,\n",
              " 6,\n",
              " 1,\n",
              " 7,\n",
              " 8,\n",
              " 4,\n",
              " 9,\n",
              " 10,\n",
              " 11,\n",
              " 19,\n",
              " 18,\n",
              " 17,\n",
              " 55,\n",
              " 59,\n",
              " 60,\n",
              " 63,\n",
              " 65]"
            ]
          },
          "metadata": {},
          "execution_count": 3
        }
      ]
    },
    {
      "cell_type": "code",
      "source": [
        "InsertionSort(list)"
      ],
      "metadata": {
        "colab": {
          "base_uri": "https://localhost:8080/"
        },
        "id": "2oWpQD5W4rTf",
        "outputId": "ae32af10-82b6-47cb-cdd9-44a41a9c7946"
      },
      "execution_count": 4,
      "outputs": [
        {
          "output_type": "execute_result",
          "data": {
            "text/plain": [
              "[1,\n",
              " 3,\n",
              " 4,\n",
              " 5,\n",
              " 6,\n",
              " 7,\n",
              " 8,\n",
              " 9,\n",
              " 10,\n",
              " 11,\n",
              " 12,\n",
              " 13,\n",
              " 17,\n",
              " 18,\n",
              " 19,\n",
              " 20,\n",
              " 21,\n",
              " 22,\n",
              " 23,\n",
              " 25,\n",
              " 27,\n",
              " 31,\n",
              " 32,\n",
              " 33,\n",
              " 34,\n",
              " 35,\n",
              " 36,\n",
              " 37,\n",
              " 38,\n",
              " 39,\n",
              " 40,\n",
              " 41,\n",
              " 42,\n",
              " 43,\n",
              " 51,\n",
              " 55,\n",
              " 59,\n",
              " 60,\n",
              " 63,\n",
              " 65]"
            ]
          },
          "metadata": {},
          "execution_count": 4
        }
      ]
    },
    {
      "cell_type": "code",
      "source": [
        "list"
      ],
      "metadata": {
        "colab": {
          "base_uri": "https://localhost:8080/"
        },
        "id": "HOUXkoeM4wzJ",
        "outputId": "aa837931-88c9-4c98-d724-b97897dd7768"
      },
      "execution_count": 5,
      "outputs": [
        {
          "output_type": "execute_result",
          "data": {
            "text/plain": [
              "[1,\n",
              " 3,\n",
              " 4,\n",
              " 5,\n",
              " 6,\n",
              " 7,\n",
              " 8,\n",
              " 9,\n",
              " 10,\n",
              " 11,\n",
              " 12,\n",
              " 13,\n",
              " 17,\n",
              " 18,\n",
              " 19,\n",
              " 20,\n",
              " 21,\n",
              " 22,\n",
              " 23,\n",
              " 25,\n",
              " 27,\n",
              " 31,\n",
              " 32,\n",
              " 33,\n",
              " 34,\n",
              " 35,\n",
              " 36,\n",
              " 37,\n",
              " 38,\n",
              " 39,\n",
              " 40,\n",
              " 41,\n",
              " 42,\n",
              " 43,\n",
              " 51,\n",
              " 55,\n",
              " 59,\n",
              " 60,\n",
              " 63,\n",
              " 65]"
            ]
          },
          "metadata": {},
          "execution_count": 5
        }
      ]
    },
    {
      "cell_type": "code",
      "source": [
        "list = [43,37,36,40,39,38,42,41,23,20,35,12,13,51,22,21,25,27,31,34,32,33,5,3,6,1,7,8,4,9,10,11,19,18,17,55,59,60,63,65]"
      ],
      "metadata": {
        "id": "-2ffWWlF5GDy"
      },
      "execution_count": 6,
      "outputs": []
    },
    {
      "cell_type": "code",
      "source": [
        "InsertionSort(list)\n",
        "print(list)"
      ],
      "metadata": {
        "colab": {
          "base_uri": "https://localhost:8080/"
        },
        "id": "tB6f8GIL5KiQ",
        "outputId": "aa80ede3-5f99-416c-d081-1ec4c8eafffc"
      },
      "execution_count": 7,
      "outputs": [
        {
          "output_type": "stream",
          "name": "stdout",
          "text": [
            "[1, 3, 4, 5, 6, 7, 8, 9, 10, 11, 12, 13, 17, 18, 19, 20, 21, 22, 23, 25, 27, 31, 32, 33, 34, 35, 36, 37, 38, 39, 40, 41, 42, 43, 51, 55, 59, 60, 63, 65]\n"
          ]
        }
      ]
    }
  ]
}