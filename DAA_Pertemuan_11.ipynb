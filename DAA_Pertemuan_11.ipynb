{
  "nbformat": 4,
  "nbformat_minor": 0,
  "metadata": {
    "colab": {
      "name": "DAA_Pertemuan_11.ipynb",
      "provenance": [],
      "collapsed_sections": [],
      "authorship_tag": "ABX9TyN7SeR67qHX6u37eICA2R+W",
      "include_colab_link": true
    },
    "kernelspec": {
      "name": "python3",
      "display_name": "Python 3"
    },
    "language_info": {
      "name": "python"
    }
  },
  "cells": [
    {
      "cell_type": "markdown",
      "metadata": {
        "id": "view-in-github",
        "colab_type": "text"
      },
      "source": [
        "<a href=\"https://colab.research.google.com/github/Piluthfi/Desain-dan-Analisis-Algoritma/blob/main/DAA_Pertemuan_11.ipynb\" target=\"_parent\"><img src=\"https://colab.research.google.com/assets/colab-badge.svg\" alt=\"Open In Colab\"/></a>"
      ]
    },
    {
      "cell_type": "code",
      "metadata": {
        "id": "MpLZa64mUlFo"
      },
      "source": [
        "# a-----b\n",
        "# |     |\n",
        "# |     |\n",
        "# c-----d-----e"
      ],
      "execution_count": null,
      "outputs": []
    },
    {
      "cell_type": "code",
      "metadata": {
        "colab": {
          "base_uri": "https://localhost:8080/"
        },
        "id": "ChCcGR7MVFnz",
        "outputId": "4b1cfa5c-a337-4736-a831-238d644a0b0e"
      },
      "source": [
        "# Create the dictionary with graph elements\n",
        "graph = { \"a\" : [\"b\",\"c\"],\n",
        "          \"b\" : [\"a\", \"d\"],\n",
        "          \"c\" : [\"a\", \"d\"],\n",
        "          \"d\" : [\"e\"],\n",
        "          \"e\" : [\"d\"]\n",
        "         }\n",
        "        \n",
        "# Print the graph ->->\n",
        "print(graph)"
      ],
      "execution_count": null,
      "outputs": [
        {
          "output_type": "stream",
          "name": "stdout",
          "text": [
            "{'a': ['b', 'c'], 'b': ['a', 'd'], 'c': ['a', 'd'], 'd': ['e'], 'e': ['d']}\n"
          ]
        }
      ]
    },
    {
      "cell_type": "code",
      "metadata": {
        "colab": {
          "base_uri": "https://localhost:8080/"
        },
        "id": "7Locr-MYo2X6",
        "outputId": "fe1c37d9-82d5-437b-a22b-c9c838961045"
      },
      "source": [
        "# T----------U----------V\n",
        "# |                     |\n",
        "# W---------------------X\n",
        "# |                     |\n",
        "# Z                     S\n",
        "\n",
        "# Create the dictionary with graph elements\n",
        "graph = { \"T\" : [\"U\", \"W\"],\n",
        "          \"U\" : [\"T\", \"V\"],\n",
        "          \"V\" : [\"U\", \"X\"],\n",
        "          \"W\" : [\"T\", \"X\", \"Z\"],\n",
        "          \"X\" : [\"V\", \"W\", \"S\"],\n",
        "          \"Z\" : [\"W\"],\n",
        "          \"S\" : [\"X\"]\n",
        "         }\n",
        "        \n",
        "# Print the graph ->->\n",
        "print(graph)"
      ],
      "execution_count": 5,
      "outputs": [
        {
          "output_type": "stream",
          "name": "stdout",
          "text": [
            "{'T': ['U', 'W'], 'U': ['T', 'V'], 'V': ['U', 'X'], 'W': ['T', 'X', 'Z'], 'X': ['V', 'W', 'S'], 'Z': ['W'], 'S': ['X']}\n"
          ]
        }
      ]
    },
    {
      "cell_type": "code",
      "metadata": {
        "colab": {
          "base_uri": "https://localhost:8080/"
        },
        "id": "_1ETvfM7rB-V",
        "outputId": "4973e284-d718-4fb2-d80d-78c656bae704"
      },
      "source": [
        "# R----------O----------M\n",
        "# |          |          |\n",
        "# L----------P----------N\n",
        "\n",
        "# Create the dictionary with graph elements\n",
        "graph = { \"R\" : [\"O\", \"L\"],\n",
        "          \"O\" : [\"R\", \"M\", \"P\"],\n",
        "          \"M\" : [\"O\", \"N\"],\n",
        "          \"L\" : [\"R\", \"P\"],\n",
        "          \"P\" : [\"L\", \"N\", \"O\"],\n",
        "          \"N\" : [\"P\", \"M\"]\n",
        "         }\n",
        "        \n",
        "# Print the graph ->->\n",
        "print(graph)"
      ],
      "execution_count": 4,
      "outputs": [
        {
          "output_type": "stream",
          "name": "stdout",
          "text": [
            "{'R': ['O', 'L'], 'O': ['R', 'M', 'P'], 'M': ['O', 'N'], 'L': ['R', 'P'], 'P': ['L', 'N', 'O'], 'N': ['P', 'M']}\n"
          ]
        }
      ]
    },
    {
      "cell_type": "code",
      "metadata": {
        "colab": {
          "base_uri": "https://localhost:8080/"
        },
        "id": "7oCVjb3GV0Vg",
        "outputId": "54b32911-e048-4e67-8f57-7b34900ac992"
      },
      "source": [
        "class graph:\n",
        "    def __init__(self,gdict=None):\n",
        "        if gdict is None:\n",
        "            gdict = []\n",
        "        self.gdict = gdict\n",
        "\n",
        "# Get the keys of the dictionary\n",
        "    def getVertices(self):\n",
        "        return list(self.gdict.keys())\n",
        "\n",
        "# Create the dictionary with graph elements\n",
        "graph_elements = { \"a\" : [\"b\",\"c\"],\n",
        "                \"b\" : [\"a\", \"d\"],\n",
        "                \"c\" : [\"a\", \"d\"],\n",
        "                \"d\" : [\"e\"],\n",
        "                \"e\" : [\"d\"]\n",
        "                }\n",
        "\n",
        "g = graph(graph_elements)\n",
        "\n",
        "print(g.getVertices())"
      ],
      "execution_count": 6,
      "outputs": [
        {
          "output_type": "stream",
          "name": "stdout",
          "text": [
            "['a', 'b', 'c', 'd', 'e']\n"
          ]
        }
      ]
    },
    {
      "cell_type": "code",
      "metadata": {
        "colab": {
          "base_uri": "https://localhost:8080/"
        },
        "id": "qtTuCHY8tWij",
        "outputId": "d5e27e5c-1cf3-40b9-8f59-3648fd48a4b1"
      },
      "source": [
        "# Elemen simpul graph TUV\n",
        "class graph:\n",
        "    def __init__(self,gdict=None):\n",
        "        if gdict is None:\n",
        "            gdict = []\n",
        "        self.gdict = gdict\n",
        "\n",
        "# Get the keys of the dictionary\n",
        "    def getVertices(self):\n",
        "        return list(self.gdict.keys())\n",
        "\n",
        "# Create the dictionary with graph elements\n",
        "graph_elements = { \"T\" : [\"U\", \"W\"],\n",
        "                   \"U\" : [\"T\", \"V\"],\n",
        "                   \"V\" : [\"U\", \"X\"],\n",
        "                   \"W\" : [\"T\", \"X\", \"Z\"],\n",
        "                   \"X\" : [\"V\", \"W\", \"S\"],\n",
        "                   \"Z\" : [\"W\"],\n",
        "                   \"S\" : [\"X\"]\n",
        "                  }\n",
        "\n",
        "g = graph(graph_elements)\n",
        "\n",
        "print(g.getVertices())"
      ],
      "execution_count": 7,
      "outputs": [
        {
          "output_type": "stream",
          "name": "stdout",
          "text": [
            "['T', 'U', 'V', 'W', 'X', 'Z', 'S']\n"
          ]
        }
      ]
    },
    {
      "cell_type": "code",
      "metadata": {
        "colab": {
          "base_uri": "https://localhost:8080/"
        },
        "id": "suzXBLADtzdH",
        "outputId": "fef0b3fd-d5c7-4c78-f06f-b48e519e61d6"
      },
      "source": [
        "# Elemen simpul graph ROM\n",
        "class graph:\n",
        "    def __init__(self,gdict=None):\n",
        "        if gdict is None:\n",
        "            gdict = []\n",
        "        self.gdict = gdict\n",
        "\n",
        "# Get the keys of the dictionary\n",
        "    def getVertices(self):\n",
        "        return list(self.gdict.keys())\n",
        "\n",
        "# Create the dictionary with graph elements\n",
        "graph_elements = { \"R\" : [\"O\", \"L\"],\n",
        "                   \"O\" : [\"R\", \"M\", \"P\"],\n",
        "                   \"M\" : [\"O\", \"N\"],\n",
        "                   \"L\" : [\"R\", \"P\"],\n",
        "                   \"P\" : [\"L\", \"N\", \"O\"],\n",
        "                   \"N\" : [\"P\", \"M\"]\n",
        "                  } \n",
        "\n",
        "g = graph(graph_elements)\n",
        "\n",
        "print(g.getVertices())"
      ],
      "execution_count": 8,
      "outputs": [
        {
          "output_type": "stream",
          "name": "stdout",
          "text": [
            "['R', 'O', 'M', 'L', 'P', 'N']\n"
          ]
        }
      ]
    },
    {
      "cell_type": "code",
      "metadata": {
        "id": "prdjKl9JXqA-",
        "colab": {
          "base_uri": "https://localhost:8080/"
        },
        "outputId": "bb57d329-62ef-48fa-8ac9-039008600b64"
      },
      "source": [
        "class graph:\n",
        "    def __init__(self,gdict=None):\n",
        "        if gdict is None:\n",
        "            gdict = {}\n",
        "        self.gdict = gdict\n",
        "\n",
        "    def edges(self):\n",
        "        return self.findedges()\n",
        "\n",
        "# Find the distinct list of edges\n",
        "    def findedges(self):\n",
        "        edgename = []\n",
        "        for vrtx in self.gdict:\n",
        "            for nxtvrtx in self.gdict[vrtx]:\n",
        "                if {nxtvrtx, vrtx} not in edgename:\n",
        "                    edgename.append({vrtx, nxtvrtx})\n",
        "        return edgename\n",
        "\n",
        "# Create the dictionary with graph elements\n",
        "graph_elements = { \"a\" : [\"b\",\"c\"],\n",
        "                   \"b\" : [\"a\",\"d\"],\n",
        "                   \"c\" : [\"a\",\"d\"],\n",
        "                   \"d\" : [\"e\"],\n",
        "                   \"e\" : [\"d\"]\n",
        "                  }\n",
        "\n",
        "g = graph(graph_elements)\n",
        "\n",
        "print(g.edges())"
      ],
      "execution_count": 10,
      "outputs": [
        {
          "output_type": "stream",
          "name": "stdout",
          "text": [
            "[{'a', 'b'}, {'a', 'c'}, {'d', 'b'}, {'d', 'c'}, {'d', 'e'}]\n"
          ]
        }
      ]
    },
    {
      "cell_type": "code",
      "metadata": {
        "colab": {
          "base_uri": "https://localhost:8080/"
        },
        "id": "AJRp6GpqusUE",
        "outputId": "89069405-ff38-4d2a-c92b-027eb7e9c343"
      },
      "source": [
        "# Sudut graph TUV\n",
        "class graph:\n",
        "    def __init__(self,gdict=None):\n",
        "        if gdict is None:\n",
        "            gdict = {}\n",
        "        self.gdict = gdict\n",
        "\n",
        "    def edges(self):\n",
        "        return self.findedges()\n",
        "\n",
        "# Find the distinct list of edges\n",
        "    def findedges(self):\n",
        "        edgename = []\n",
        "        for vrtx in self.gdict:\n",
        "            for nxtvrtx in self.gdict[vrtx]:\n",
        "                if {nxtvrtx, vrtx} not in edgename:\n",
        "                    edgename.append({vrtx, nxtvrtx})\n",
        "        return edgename\n",
        "\n",
        "# Create the dictionary with graph elements\n",
        "graph_elements = { \"T\" : [\"U\", \"W\"],\n",
        "                   \"U\" : [\"T\", \"V\"],\n",
        "                   \"V\" : [\"U\", \"X\"],\n",
        "                   \"W\" : [\"T\", \"X\", \"Z\"],\n",
        "                   \"X\" : [\"V\", \"W\", \"S\"],\n",
        "                   \"Z\" : [\"W\"],\n",
        "                   \"S\" : [\"X\"]\n",
        "                  }\n",
        "\n",
        "g = graph(graph_elements)\n",
        "\n",
        "print(g.edges())"
      ],
      "execution_count": 11,
      "outputs": [
        {
          "output_type": "stream",
          "name": "stdout",
          "text": [
            "[{'U', 'T'}, {'W', 'T'}, {'V', 'U'}, {'X', 'V'}, {'X', 'W'}, {'Z', 'W'}, {'X', 'S'}]\n"
          ]
        }
      ]
    },
    {
      "cell_type": "code",
      "metadata": {
        "colab": {
          "base_uri": "https://localhost:8080/"
        },
        "id": "skwINGRTvVn6",
        "outputId": "0641c3e5-0b91-4b79-f121-d07ac139e6cf"
      },
      "source": [
        "# Sudut graph ROM\n",
        "class graph:\n",
        "    def __init__(self,gdict=None):\n",
        "        if gdict is None:\n",
        "            gdict = {}\n",
        "        self.gdict = gdict\n",
        "\n",
        "    def edges(self):\n",
        "        return self.findedges()\n",
        "\n",
        "# Find the distinct list of edges\n",
        "    def findedges(self):\n",
        "        edgename = []\n",
        "        for vrtx in self.gdict:\n",
        "            for nxtvrtx in self.gdict[vrtx]:\n",
        "                if {nxtvrtx, vrtx} not in edgename:\n",
        "                    edgename.append({vrtx, nxtvrtx})\n",
        "        return edgename\n",
        "\n",
        "# Create the dictionary with graph elements\n",
        "graph_elements = { \"R\" : [\"O\", \"L\"],\n",
        "                   \"O\" : [\"R\", \"M\", \"P\"],\n",
        "                   \"M\" : [\"O\", \"N\"],\n",
        "                   \"L\" : [\"R\", \"P\"],\n",
        "                   \"P\" : [\"L\", \"N\", \"O\"],\n",
        "                   \"N\" : [\"P\", \"M\"]\n",
        "                  }\n",
        "\n",
        "g = graph(graph_elements)\n",
        "\n",
        "print(g.edges())"
      ],
      "execution_count": 12,
      "outputs": [
        {
          "output_type": "stream",
          "name": "stdout",
          "text": [
            "[{'O', 'R'}, {'L', 'R'}, {'O', 'M'}, {'O', 'P'}, {'M', 'N'}, {'L', 'P'}, {'N', 'P'}]\n"
          ]
        }
      ]
    },
    {
      "cell_type": "code",
      "metadata": {
        "id": "F3g7_0_wa0UY",
        "colab": {
          "base_uri": "https://localhost:8080/"
        },
        "outputId": "527733d9-45ff-40dc-dba9-87d636bd7a55"
      },
      "source": [
        "class graph: \n",
        "\n",
        "    def __init__(self,gdict=None):\n",
        "        if gdict is None:\n",
        "            gdict = {}\n",
        "        self.gdict = gdict\n",
        "\n",
        "    def getVertices(self):\n",
        "        return list(self.gdict.keys())\n",
        "\n",
        "# Add the vertex as a key\n",
        "    def addVertex(self, vrtx):\n",
        "        if vrtx not in self.gdict:\n",
        "             self.gdict[vrtx] = []\n",
        "\n",
        "# Create the dicitonary with graph elements\n",
        "graph_elements = { \"a\" : [\"b\",\"c\"],\n",
        "                \"b\" : [\"a\", \"d\"],\n",
        "                \"c\" : [\"a\", \"d\"],\n",
        "                \"d\" : [\"e\"],\n",
        "                \"e\" : [\"d\"]\n",
        "                }\n",
        "\n",
        "g = graph(graph_elements)\n",
        "\n",
        "g.addVertex(\"f\")\n",
        "\n",
        "print(g.getVertices())"
      ],
      "execution_count": null,
      "outputs": [
        {
          "output_type": "stream",
          "name": "stdout",
          "text": [
            "['a', 'b', 'c', 'd', 'e', 'f']\n"
          ]
        }
      ]
    },
    {
      "cell_type": "code",
      "metadata": {
        "colab": {
          "base_uri": "https://localhost:8080/"
        },
        "id": "ajJka35qvz5Y",
        "outputId": "7bb9c4f5-75a7-4bbb-8d4d-dd2a2dbefe16"
      },
      "source": [
        "# Tambah simpul pada graph TUV\n",
        "class graph: \n",
        "\n",
        "    def __init__(self,gdict=None):\n",
        "        if gdict is None:\n",
        "            gdict = {}\n",
        "        self.gdict = gdict\n",
        "\n",
        "    def getVertices(self):\n",
        "        return list(self.gdict.keys())\n",
        "\n",
        "# Add the vertex as a key\n",
        "    def addVertex(self, vrtx):\n",
        "        if vrtx not in self.gdict:\n",
        "             self.gdict[vrtx] = []\n",
        "\n",
        "# Create the dicitonary with graph elements\n",
        "graph_elements = { \"T\" : [\"U\", \"W\"],\n",
        "                   \"U\" : [\"T\", \"V\"],\n",
        "                   \"V\" : [\"U\", \"X\"],\n",
        "                   \"W\" : [\"T\", \"X\", \"Z\"],\n",
        "                   \"X\" : [\"V\", \"W\", \"S\"],\n",
        "                   \"Z\" : [\"W\"],\n",
        "                   \"S\" : [\"X\"]\n",
        "                  }\n",
        "\n",
        "g = graph(graph_elements)\n",
        "\n",
        "g.addVertex(\"Y\")\n",
        "\n",
        "print(g.getVertices())"
      ],
      "execution_count": 13,
      "outputs": [
        {
          "output_type": "stream",
          "name": "stdout",
          "text": [
            "['T', 'U', 'V', 'W', 'X', 'Z', 'S', 'Y']\n"
          ]
        }
      ]
    },
    {
      "cell_type": "code",
      "metadata": {
        "colab": {
          "base_uri": "https://localhost:8080/"
        },
        "id": "RL9qxgB7wxVS",
        "outputId": "70ece0c9-67ce-4c7c-b9c4-95ccf73bf780"
      },
      "source": [
        "# Tambah simpul pada graph ROM\n",
        "class graph: \n",
        "\n",
        "    def __init__(self,gdict=None):\n",
        "        if gdict is None:\n",
        "            gdict = {}\n",
        "        self.gdict = gdict\n",
        "\n",
        "    def getVertices(self):\n",
        "        return list(self.gdict.keys())\n",
        "\n",
        "# Add the vertex as a key\n",
        "    def addVertex(self, vrtx):\n",
        "        if vrtx not in self.gdict:\n",
        "             self.gdict[vrtx] = []\n",
        "\n",
        "# Create the dicitonary with graph elements\n",
        "graph_elements = { \"R\" : [\"O\", \"L\"],\n",
        "                   \"O\" : [\"R\", \"M\", \"P\"],\n",
        "                   \"M\" : [\"O\", \"N\"],\n",
        "                   \"L\" : [\"R\", \"P\"],\n",
        "                   \"P\" : [\"L\", \"N\", \"O\"],\n",
        "                   \"N\" : [\"P\", \"M\"]\n",
        "                  }\n",
        "\n",
        "g = graph(graph_elements)\n",
        "\n",
        "g.addVertex(\"Q\")\n",
        "\n",
        "print(g.getVertices())"
      ],
      "execution_count": 14,
      "outputs": [
        {
          "output_type": "stream",
          "name": "stdout",
          "text": [
            "['R', 'O', 'M', 'L', 'P', 'N', 'Q']\n"
          ]
        }
      ]
    },
    {
      "cell_type": "code",
      "metadata": {
        "id": "7PkueXaScYAK"
      },
      "source": [
        "class graph:\n",
        "    def __init__(self,gdict=None):\n",
        "        if gdict is None:\n",
        "            gdict = {}\n",
        "        self.gdict = gdict\n",
        "        \n",
        "    def edges(self):\n",
        "        return self.findedges()\n",
        "    \n",
        "# Add the new edges\n",
        "    def AddEdge(self, edge):\n",
        "        edge = set(edge)\n",
        "        (vrtx1, vrtx2) = tuple(edge)\n",
        "        if vrtx1 in self.gdict:\n",
        "            self.gdict[vrtx1].append(vrtx2)\n",
        "        else:\n",
        "            self.gdict[vrtx1] = [vrtx2]\n",
        "            \n",
        "# List the edge names\n",
        "    def findedges(self):\n",
        "        edgename = []\n",
        "        for vrtx in self.gdict:\n",
        "            for nxtvrtx in self.gdict[vrtx]:\n",
        "                if{nxtvrtx, vrtx} not in edgename:\n",
        "                    edgename.append({vrtx, nxtvrtx})\n",
        "        return edgename"
      ],
      "execution_count": 15,
      "outputs": []
    },
    {
      "cell_type": "code",
      "metadata": {
        "id": "SL5-XU1xegnG",
        "colab": {
          "base_uri": "https://localhost:8080/"
        },
        "outputId": "608b7964-2ccd-4c1b-a19c-2b6e8464092c"
      },
      "source": [
        "# Create the dictionary with graph element\n",
        "graph_elements = { \"a\" : [\"b\", \"c\"],\n",
        "                 \"b\" : [\"a\", \"d\"],\n",
        "                 \"c\" : [\"a\", \"d\"],\n",
        "                 \"d\" : [\"e\"],\n",
        "                 \"e\" : [\"d\"]\n",
        "                }\n",
        "\n",
        "g = graph(graph_elements)\n",
        "g.AddEdge({'a','e'})\n",
        "g.AddEdge({'a','c'})\n",
        "print(g.edges())"
      ],
      "execution_count": 18,
      "outputs": [
        {
          "output_type": "stream",
          "name": "stdout",
          "text": [
            "[{'a', 'b'}, {'a', 'c'}, {'a', 'e'}, {'d', 'b'}, {'d', 'c'}, {'d', 'e'}]\n"
          ]
        }
      ]
    }
  ]
}