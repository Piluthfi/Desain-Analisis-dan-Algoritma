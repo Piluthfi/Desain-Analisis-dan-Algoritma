{
  "nbformat": 4,
  "nbformat_minor": 0,
  "metadata": {
    "colab": {
      "name": "DAA_Pertemuan_12.ipynb",
      "provenance": [],
      "collapsed_sections": [],
      "authorship_tag": "ABX9TyOkbHa8nwdpxKt1UzO5glrk",
      "include_colab_link": true
    },
    "kernelspec": {
      "name": "python3",
      "display_name": "Python 3"
    },
    "language_info": {
      "name": "python"
    }
  },
  "cells": [
    {
      "cell_type": "markdown",
      "metadata": {
        "id": "view-in-github",
        "colab_type": "text"
      },
      "source": [
        "<a href=\"https://colab.research.google.com/github/Piluthfi/Desain-dan-Analisis-Algoritma/blob/main/DAA_Pertemuan_12.ipynb\" target=\"_parent\"><img src=\"https://colab.research.google.com/assets/colab-badge.svg\" alt=\"Open In Colab\"/></a>"
      ]
    },
    {
      "cell_type": "code",
      "metadata": {
        "colab": {
          "base_uri": "https://localhost:8080/"
        },
        "id": "mkxrwLLCDffF",
        "outputId": "6b1f706c-19ce-43d6-ff06-7614356f24e0"
      },
      "source": [
        "pip install networkx"
      ],
      "execution_count": 2,
      "outputs": [
        {
          "output_type": "stream",
          "name": "stdout",
          "text": [
            "Requirement already satisfied: networkx in /usr/local/lib/python3.7/dist-packages (2.6.3)\n"
          ]
        }
      ]
    },
    {
      "cell_type": "code",
      "metadata": {
        "colab": {
          "base_uri": "https://localhost:8080/",
          "height": 319
        },
        "id": "XwyBSddlELOi",
        "outputId": "bea8bee3-d44f-47f8-da0a-e56ab146a8b9"
      },
      "source": [
        "import networkx as nx\n",
        "import matplotlib.pyplot as plt\n",
        "vertices = range(1,10)\n",
        "edges = [(7,2), (2,3), (7,4), (4,5), (7,3), (7,5), (1,6), (1,7), (2,8), (2,9)]\n",
        "G = nx.Graph()\n",
        "G.add_nodes_from(vertices)\n",
        "G.add_edges_from(edges)\n",
        "nx.draw(G, with_labels=True,node_color='y',node_size=800)"
      ],
      "execution_count": 5,
      "outputs": [
        {
          "output_type": "display_data",
          "data": {
            "image/png": "[encoded data removed]",
            "text/plain": [
              "<Figure size 432x288 with 1 Axes>"
            ]
          },
          "metadata": {}
        }
      ]
    },
    {
      "cell_type": "code",
      "metadata": {
        "colab": {
          "base_uri": "https://localhost:8080/"
        },
        "id": "OhJ-oPtGEpM7",
        "outputId": "9fa109ad-f07c-4daf-af09-720c8d7ebca9"
      },
      "source": [
        "nx.degree_centrality(G)"
      ],
      "execution_count": 6,
      "outputs": [
        {
          "output_type": "execute_result",
          "data": {
            "text/plain": [
              "{1: 0.25,\n",
              " 2: 0.5,\n",
              " 3: 0.25,\n",
              " 4: 0.25,\n",
              " 5: 0.25,\n",
              " 6: 0.125,\n",
              " 7: 0.625,\n",
              " 8: 0.125,\n",
              " 9: 0.125}"
            ]
          },
          "metadata": {},
          "execution_count": 6
        }
      ]
    },
    {
      "cell_type": "code",
      "metadata": {
        "colab": {
          "base_uri": "https://localhost:8080/"
        },
        "id": "hgqrtrAzEt19",
        "outputId": "167d0a7d-4b06-4606-d853-8206f2483944"
      },
      "source": [
        "nx.betweenness_centrality(G)"
      ],
      "execution_count": 7,
      "outputs": [
        {
          "output_type": "execute_result",
          "data": {
            "text/plain": [
              "{1: 0.25,\n",
              " 2: 0.46428571428571425,\n",
              " 3: 0.0,\n",
              " 4: 0.0,\n",
              " 5: 0.0,\n",
              " 6: 0.0,\n",
              " 7: 0.7142857142857142,\n",
              " 8: 0.0,\n",
              " 9: 0.0}"
            ]
          },
          "metadata": {},
          "execution_count": 7
        }
      ]
    },
    {
      "cell_type": "code",
      "metadata": {
        "colab": {
          "base_uri": "https://localhost:8080/"
        },
        "id": "pCOF9OiQE009",
        "outputId": "d6e107e9-5612-4798-cab3-62bef8b89e73"
      },
      "source": [
        "nx.closeness_centrality(G)"
      ],
      "execution_count": 8,
      "outputs": [
        {
          "output_type": "execute_result",
          "data": {
            "text/plain": [
              "{1: 0.5,\n",
              " 2: 0.6153846153846154,\n",
              " 3: 0.5333333333333333,\n",
              " 4: 0.47058823529411764,\n",
              " 5: 0.47058823529411764,\n",
              " 6: 0.34782608695652173,\n",
              " 7: 0.7272727272727273,\n",
              " 8: 0.4,\n",
              " 9: 0.4}"
            ]
          },
          "metadata": {},
          "execution_count": 8
        }
      ]
    },
    {
      "cell_type": "code",
      "metadata": {
        "id": "iNiRRB5IE3T6"
      },
      "source": [
        "centrality = nx.eigenvector_centrality(G)"
      ],
      "execution_count": 10,
      "outputs": []
    },
    {
      "cell_type": "code",
      "metadata": {
        "colab": {
          "base_uri": "https://localhost:8080/"
        },
        "id": "U_Y3GeBzFBbQ",
        "outputId": "7a847fd3-039a-4e76-bdb2-537016465db7"
      },
      "source": [
        "sorted((v, '{:0.2f}'.format(c)) for v, c in centrality.items())"
      ],
      "execution_count": 11,
      "outputs": [
        {
          "output_type": "execute_result",
          "data": {
            "text/plain": [
              "[(1, '0.24'),\n",
              " (2, '0.45'),\n",
              " (3, '0.36'),\n",
              " (4, '0.32'),\n",
              " (5, '0.32'),\n",
              " (6, '0.08'),\n",
              " (7, '0.59'),\n",
              " (8, '0.16'),\n",
              " (9, '0.16')]"
            ]
          },
          "metadata": {},
          "execution_count": 11
        }
      ]
    },
    {
      "cell_type": "code",
      "metadata": {
        "colab": {
          "base_uri": "https://localhost:8080/",
          "height": 319
        },
        "id": "nXiZCg64Fu6A",
        "outputId": "2e623fb8-f51e-40e0-8a25-02113a80200d"
      },
      "source": [
        "edges = [('Lisa', 'Allen'), ('Allen','Liz'), ('Liz','Emma'), ('Liz','Shane'), ('Emma','Mike'),\n",
        "         ('Emma','Bob'), ('Emma','Jill'), ('Emma','Shane'), ('Shane','Jill'), ('Shane','Leah'),\n",
        "         ('Shane','John'), ('Leah','John'),('Leah','Jill'), ('John','Jill'), ('John','Bob'), \n",
        "         ('Mike','jill'), ('Mike','Bob'), ('Bob','jill')]\n",
        "G = nx.Graph()\n",
        "G.add_edges_from(edges)\n",
        "nx.draw(G, with_labels=True, node_size= 1200)"
      ],
      "execution_count": 17,
      "outputs": [
        {
          "output_type": "display_data",
          "data": {
            "image/png": "[encoded data removed]",
            "text/plain": [
              "<Figure size 432x288 with 1 Axes>"
            ]
          },
          "metadata": {}
        }
      ]
    },
    {
      "cell_type": "code",
      "metadata": {
        "colab": {
          "base_uri": "https://localhost:8080/"
        },
        "id": "S_fkALWnGRde",
        "outputId": "aecba33e-fead-443f-fb3f-45968045b617"
      },
      "source": [
        "nx.degree_centrality(G)"
      ],
      "execution_count": 18,
      "outputs": [
        {
          "output_type": "execute_result",
          "data": {
            "text/plain": [
              "{'Allen': 0.2,\n",
              " 'Bob': 0.4,\n",
              " 'Emma': 0.5,\n",
              " 'Jill': 0.4,\n",
              " 'John': 0.4,\n",
              " 'Leah': 0.30000000000000004,\n",
              " 'Lisa': 0.1,\n",
              " 'Liz': 0.30000000000000004,\n",
              " 'Mike': 0.30000000000000004,\n",
              " 'Shane': 0.5,\n",
              " 'jill': 0.2}"
            ]
          },
          "metadata": {},
          "execution_count": 18
        }
      ]
    },
    {
      "cell_type": "code",
      "metadata": {
        "colab": {
          "base_uri": "https://localhost:8080/"
        },
        "id": "JY3WYWFCGdWC",
        "outputId": "87e28f9f-ebde-4701-d676-0cb85fb3968c"
      },
      "source": [
        "nx.betweenness_centrality(G)"
      ],
      "execution_count": 19,
      "outputs": [
        {
          "output_type": "execute_result",
          "data": {
            "text/plain": [
              "{'Allen': 0.2,\n",
              " 'Bob': 0.15555555555555556,\n",
              " 'Emma': 0.34444444444444444,\n",
              " 'Jill': 0.025925925925925925,\n",
              " 'John': 0.08888888888888889,\n",
              " 'Leah': 0.0,\n",
              " 'Lisa': 0.0,\n",
              " 'Liz': 0.35555555555555557,\n",
              " 'Mike': 0.05925925925925927,\n",
              " 'Shane': 0.1925925925925926,\n",
              " 'jill': 0.0}"
            ]
          },
          "metadata": {},
          "execution_count": 19
        }
      ]
    },
    {
      "cell_type": "code",
      "metadata": {
        "colab": {
          "base_uri": "https://localhost:8080/"
        },
        "id": "eAkN5R6fGhOH",
        "outputId": "f97f5b31-1004-44df-8262-9cc4b10b9a92"
      },
      "source": [
        "nx.closeness_centrality(G)"
      ],
      "execution_count": 20,
      "outputs": [
        {
          "output_type": "execute_result",
          "data": {
            "text/plain": [
              "{'Allen': 0.4,\n",
              " 'Bob': 0.5263157894736842,\n",
              " 'Emma': 0.625,\n",
              " 'Jill': 0.5,\n",
              " 'John': 0.5263157894736842,\n",
              " 'Leah': 0.45454545454545453,\n",
              " 'Lisa': 0.29411764705882354,\n",
              " 'Liz': 0.5555555555555556,\n",
              " 'Mike': 0.47619047619047616,\n",
              " 'Shane': 0.5882352941176471,\n",
              " 'jill': 0.37037037037037035}"
            ]
          },
          "metadata": {},
          "execution_count": 20
        }
      ]
    },
    {
      "cell_type": "code",
      "metadata": {
        "id": "XULQwxeQGmER"
      },
      "source": [
        "centrality = nx.eigenvector_centrality(G)"
      ],
      "execution_count": 21,
      "outputs": []
    },
    {
      "cell_type": "code",
      "metadata": {
        "colab": {
          "base_uri": "https://localhost:8080/"
        },
        "id": "QXka-kztGpOd",
        "outputId": "4478d138-95d9-4e11-985e-791d62f4a3d8"
      },
      "source": [
        "sorted((v, '{:0.2f}'.format(c)) for v, c in centrality.items())"
      ],
      "execution_count": 22,
      "outputs": [
        {
          "output_type": "execute_result",
          "data": {
            "text/plain": [
              "[('Allen', '0.07'),\n",
              " ('Bob', '0.29'),\n",
              " ('Emma', '0.42'),\n",
              " ('Jill', '0.40'),\n",
              " ('John', '0.38'),\n",
              " ('Leah', '0.32'),\n",
              " ('Lisa', '0.02'),\n",
              " ('Liz', '0.24'),\n",
              " ('Mike', '0.22'),\n",
              " ('Shane', '0.45'),\n",
              " ('jill', '0.13')]"
            ]
          },
          "metadata": {},
          "execution_count": 22
        }
      ]
    },
    {
      "cell_type": "code",
      "metadata": {
        "colab": {
          "base_uri": "https://localhost:8080/",
          "height": 319
        },
        "id": "8TD8eLL7HFpC",
        "outputId": "4d22939f-169c-4261-feca-d85732352b85"
      },
      "source": [
        "edges = [(1,4), (1,10), (2,1), (2,3), (2,6), (2,11), (2,12), (2,15), (3,5), (3,13),(6,7), (6,8), (6,9), (6,14)]\n",
        "G = nx.Graph()\n",
        "G.add_nodes_from(vertices)\n",
        "G.add_edges_from(edges)\n",
        "nx.draw(G, with_labels=True,node_color='y',node_size=800)"
      ],
      "execution_count": 23,
      "outputs": [
        {
          "output_type": "display_data",
          "data": {
            "image/png": "[encoded data removed]",
            "text/plain": [
              "<Figure size 432x288 with 1 Axes>"
            ]
          },
          "metadata": {}
        }
      ]
    },
    {
      "cell_type": "code",
      "metadata": {
        "colab": {
          "base_uri": "https://localhost:8080/"
        },
        "id": "oQs6aFaeHZUM",
        "outputId": "302b0682-091c-4a06-aebe-abb9a9331375"
      },
      "source": [
        "nx.degree_centrality(G)"
      ],
      "execution_count": 24,
      "outputs": [
        {
          "output_type": "execute_result",
          "data": {
            "text/plain": [
              "{1: 0.21428571428571427,\n",
              " 2: 0.42857142857142855,\n",
              " 3: 0.21428571428571427,\n",
              " 4: 0.07142857142857142,\n",
              " 5: 0.07142857142857142,\n",
              " 6: 0.3571428571428571,\n",
              " 7: 0.07142857142857142,\n",
              " 8: 0.07142857142857142,\n",
              " 9: 0.07142857142857142,\n",
              " 10: 0.07142857142857142,\n",
              " 11: 0.07142857142857142,\n",
              " 12: 0.07142857142857142,\n",
              " 13: 0.07142857142857142,\n",
              " 14: 0.07142857142857142,\n",
              " 15: 0.07142857142857142}"
            ]
          },
          "metadata": {},
          "execution_count": 24
        }
      ]
    },
    {
      "cell_type": "code",
      "metadata": {
        "colab": {
          "base_uri": "https://localhost:8080/"
        },
        "id": "erJiSX3UHcn-",
        "outputId": "a14c4b6f-4830-4830-c8a0-3961ad5c392f"
      },
      "source": [
        "nx.betweenness_centrality(G)"
      ],
      "execution_count": 25,
      "outputs": [
        {
          "output_type": "execute_result",
          "data": {
            "text/plain": [
              "{1: 0.27472527472527475,\n",
              " 2: 0.8241758241758242,\n",
              " 3: 0.27472527472527475,\n",
              " 4: 0.0,\n",
              " 5: 0.0,\n",
              " 6: 0.5054945054945056,\n",
              " 7: 0.0,\n",
              " 8: 0.0,\n",
              " 9: 0.0,\n",
              " 10: 0.0,\n",
              " 11: 0.0,\n",
              " 12: 0.0,\n",
              " 13: 0.0,\n",
              " 14: 0.0,\n",
              " 15: 0.0}"
            ]
          },
          "metadata": {},
          "execution_count": 25
        }
      ]
    },
    {
      "cell_type": "code",
      "metadata": {
        "colab": {
          "base_uri": "https://localhost:8080/"
        },
        "id": "8wabg1-1Hg2b",
        "outputId": "c92e02d0-cecf-4c2c-cf24-471160f273dd"
      },
      "source": [
        "nx.closeness_centrality(G)"
      ],
      "execution_count": 26,
      "outputs": [
        {
          "output_type": "execute_result",
          "data": {
            "text/plain": [
              "{1: 0.45161290322580644,\n",
              " 2: 0.6363636363636364,\n",
              " 3: 0.45161290322580644,\n",
              " 4: 0.3181818181818182,\n",
              " 5: 0.3181818181818182,\n",
              " 6: 0.5185185185185185,\n",
              " 7: 0.35,\n",
              " 8: 0.35,\n",
              " 9: 0.35,\n",
              " 10: 0.3181818181818182,\n",
              " 11: 0.4,\n",
              " 12: 0.4,\n",
              " 13: 0.3181818181818182,\n",
              " 14: 0.35,\n",
              " 15: 0.4}"
            ]
          },
          "metadata": {},
          "execution_count": 26
        }
      ]
    },
    {
      "cell_type": "code",
      "metadata": {
        "id": "QWKiXu7yHkJr"
      },
      "source": [
        "centrality = nx.eigenvector_centrality(G)"
      ],
      "execution_count": 27,
      "outputs": []
    },
    {
      "cell_type": "code",
      "metadata": {
        "colab": {
          "base_uri": "https://localhost:8080/"
        },
        "id": "ALqBf3M1Hnmo",
        "outputId": "d0976bcd-7076-4f4e-9d44-8f95347aebe9"
      },
      "source": [
        "sorted((v, '{:0.2f}'.format(c)) for v, c in centrality.items())"
      ],
      "execution_count": 28,
      "outputs": [
        {
          "output_type": "execute_result",
          "data": {
            "text/plain": [
              "[(1, '0.29'),\n",
              " (2, '0.60'),\n",
              " (3, '0.29'),\n",
              " (4, '0.10'),\n",
              " (5, '0.10'),\n",
              " (6, '0.44'),\n",
              " (7, '0.16'),\n",
              " (8, '0.16'),\n",
              " (9, '0.16'),\n",
              " (10, '0.10'),\n",
              " (11, '0.21'),\n",
              " (12, '0.21'),\n",
              " (13, '0.10'),\n",
              " (14, '0.16'),\n",
              " (15, '0.21')]"
            ]
          },
          "metadata": {},
          "execution_count": 28
        }
      ]
    },
    {
      "cell_type": "code",
      "metadata": {
        "id": "L-62UQDlIF-U"
      },
      "source": [
        "G_fb = nx.read_edgelist(\"facebook_combined.txt\", create_using = nx.Graph(), nodetype=int)"
      ],
      "execution_count": null,
      "outputs": []
    },
    {
      "cell_type": "code",
      "metadata": {
        "id": "Om9yFDavIfr_"
      },
      "source": [
        "print(nx.info(G_fb))"
      ],
      "execution_count": null,
      "outputs": []
    },
    {
      "cell_type": "code",
      "metadata": {
        "id": "jiXbU-i7Ikw7"
      },
      "source": [
        "pos = nx.spring_layout(G_fb)\n",
        "betCent = nx.betweenness_centrality(G_fb, normalized=True, endpoints=True)\n",
        "node_color = [20000.0 * G_fb.degree(v) for v in G_fb]\n",
        "node_size = [v * 10000 for v in betCent.values()]\n",
        "plt.figure(figsize=(20,20))\n",
        "nx.draw_networkx(G_fb, pos=pos, \n",
        "                 with_labels=False, \n",
        "                 node_color=node_color,\n",
        "                 node_size=node_size)\n",
        "plt.axis('off')"
      ],
      "execution_count": null,
      "outputs": []
    }
  ]
}