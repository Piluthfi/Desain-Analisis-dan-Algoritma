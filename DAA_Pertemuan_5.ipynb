{
  "nbformat": 4,
  "nbformat_minor": 0,
  "metadata": {
    "colab": {
      "name": "DAA_Pertemuan 5.ipynb",
      "provenance": [],
      "collapsed_sections": [],
      "authorship_tag": "ABX9TyOK7CiSI4XX7ydoceeDG1GZ",
      "include_colab_link": true
    },
    "kernelspec": {
      "name": "python3",
      "display_name": "Python 3"
    },
    "language_info": {
      "name": "python"
    }
  },
  "cells": [
    {
      "cell_type": "markdown",
      "metadata": {
        "id": "view-in-github",
        "colab_type": "text"
      },
      "source": [
        "<a href=\"https://colab.research.google.com/github/Piluthfi/Desain-Analisis-dan-Algoritma/blob/main/DAA_Pertemuan_5.ipynb\" target=\"_parent\"><img src=\"https://colab.research.google.com/assets/colab-badge.svg\" alt=\"Open In Colab\"/></a>"
      ]
    },
    {
      "cell_type": "code",
      "metadata": {
        "id": "NhA-xExYgf5S"
      },
      "source": [
        "#Hitung Inversi\n",
        "\n",
        "def countInversion(arr):\n",
        "  result=0\n",
        "  for i in range(len(arr)):\n",
        "    for j in range(i+1,len(arr)):\n",
        "      if arr[i]>arr[j]:\n",
        "        result+=1\n",
        "  return result"
      ],
      "execution_count": null,
      "outputs": []
    },
    {
      "cell_type": "code",
      "metadata": {
        "id": "4s9t9JLhkkok"
      },
      "source": [
        "arr=[21, 70, 36, 14, 25]"
      ],
      "execution_count": null,
      "outputs": []
    },
    {
      "cell_type": "code",
      "metadata": {
        "colab": {
          "base_uri": "https://localhost:8080/"
        },
        "id": "6eRxTSV_kph0",
        "outputId": "7e048558-3ada-44a3-9d0d-8209bf58542c"
      },
      "source": [
        "result=countInversion(arr)\n",
        "print(result)"
      ],
      "execution_count": null,
      "outputs": [
        {
          "output_type": "stream",
          "name": "stdout",
          "text": [
            "6\n"
          ]
        }
      ]
    },
    {
      "cell_type": "code",
      "metadata": {
        "id": "_9Go7ntloKCz"
      },
      "source": [
        "# Hitung Inversi dengan divide dan conquer\n",
        "\n",
        "def countInversion(arr):\n",
        "    icount=0\n",
        "    if len(arr)<=1:\n",
        "        return icount\n",
        "\n",
        "    mid=len(arr)//2\n",
        "    left=arr[:mid]\n",
        "    right=arr[mid:]\n",
        "    icount+=countInversion(left)\n",
        "    icount+=countInversion(right)\n",
        "    i=j=k=0\n",
        "\n",
        "    #print(left)\n",
        "    #print(Right)\n",
        "    while i<len(left) and j<len(right):\n",
        "        if left[i]<right[j]:\n",
        "            arr[k]=left[i]\n",
        "            i+=1\n",
        "        else:\n",
        "            #print(left[i],right[j])\n",
        "            arr[k]=right[j]\n",
        "            j+=1\n",
        "            icount+=(mid-i)\n",
        "        k+=1\n",
        "    while i<len(left):\n",
        "        arr[k]=left[i]\n",
        "        i+=1\n",
        "        k+=1\n",
        "    while j<len(right):\n",
        "        arr[k]=right[j]\n",
        "        j+=1\n",
        "        k+=1\n",
        "\n",
        "    return icount"
      ],
      "execution_count": 1,
      "outputs": []
    },
    {
      "cell_type": "code",
      "metadata": {
        "id": "KX2epl1ZpizZ"
      },
      "source": [
        "arr=[1,20,6,4,5]"
      ],
      "execution_count": 2,
      "outputs": []
    },
    {
      "cell_type": "code",
      "metadata": {
        "colab": {
          "base_uri": "https://localhost:8080/"
        },
        "id": "crxDwV0spnd5",
        "outputId": "b0fc331a-b85b-4fa4-90dc-072aeba14075"
      },
      "source": [
        "result = countInversion(arr)\n",
        "print(result)"
      ],
      "execution_count": 3,
      "outputs": [
        {
          "output_type": "stream",
          "name": "stdout",
          "text": [
            "5\n"
          ]
        }
      ]
    },
    {
      "cell_type": "code",
      "metadata": {
        "id": "ywkpVuqnuxNB"
      },
      "source": [
        "# Tanpa divide dan conquer\n",
        "def maxSubSum(arr):\n",
        "  max_so_far=0\n",
        "  max_ending_here=0\n",
        "  for i in range(len(arr)):\n",
        "    max_ending_here+=arr[i]\n",
        "    if max_ending_here>max_so_far:\n",
        "      max_so_far=max_ending_here\n",
        "    if max_ending_here<0:\n",
        "      max_ending_here=0\n",
        "  return max_so_far"
      ],
      "execution_count": null,
      "outputs": []
    },
    {
      "cell_type": "code",
      "metadata": {
        "colab": {
          "base_uri": "https://localhost:8080/"
        },
        "id": "N79m3UORu5ln",
        "outputId": "3988ae0a-3842-40ae-eec5-921e2615f92b"
      },
      "source": [
        "arr=[-2, -5, 6, -2, -3, 1, 5, -6]\n",
        "result=maxSubSum(arr)\n",
        "print(result)"
      ],
      "execution_count": null,
      "outputs": [
        {
          "output_type": "stream",
          "name": "stdout",
          "text": [
            "7\n"
          ]
        }
      ]
    },
    {
      "cell_type": "code",
      "metadata": {
        "id": "yAI8_HuRyUg3"
      },
      "source": [
        "# Menggunakan Divide and Conquer\n",
        "\n",
        "def maxCrossingSum(arr,low,mid,high):\n",
        "    result=0; leftSum=float('-infinity')\n",
        "    for i in range(mid,low-1,-1):\n",
        "        result+=arr[i]\n",
        "        if result>leftSum:\n",
        "            leftSum=result\n",
        "    result=0; rightSum=float('-infinity')\n",
        "    for i in range(mid+1,high+1):\n",
        "        result+=arr[i]\n",
        "        if result>rightSum:\n",
        "            rightSum=result\n",
        "    return leftSum+rightSum\n",
        "\n",
        "def maxSum(arr,low,high):\n",
        "    if low==high:\n",
        "        return arr[low]\n",
        "    mid=(low+high)//2\n",
        "    return max(maxSum(arr,low,mid),maxSum(arr,mid+1,high),maxCrossingSum(arr,low,mid,high))"
      ],
      "execution_count": null,
      "outputs": []
    },
    {
      "cell_type": "code",
      "metadata": {
        "colab": {
          "base_uri": "https://localhost:8080/"
        },
        "id": "IOyst7WMz1ru",
        "outputId": "be5dba39-fe5d-4cb6-d1db-a9292e1c00d6"
      },
      "source": [
        "arr=[-2, -5, 6, -2, -3, 1, 5, -6]\n",
        "result=maxSum(arr,0,len(arr)-1)\n",
        "print(result)"
      ],
      "execution_count": null,
      "outputs": [
        {
          "output_type": "stream",
          "name": "stdout",
          "text": [
            "7\n"
          ]
        }
      ]
    },
    {
      "cell_type": "code",
      "metadata": {
        "id": "N4O2dZMg3KwD"
      },
      "source": [
        "# Dengan divide dan Conquer\n",
        "def commonPrefix(str1,str2):\n",
        "  n1=len(str1);n2=len(str2)\n",
        "  i,j=0,0\n",
        "  s=\"\"\n",
        "  while i<n1 and j<n2:\n",
        "    if str1[i]==str2[j]:\n",
        "      s+=str1[i]\n",
        "      i+=1\n",
        "      j+=1\n",
        "    else:\n",
        "      break\n",
        "  return s"
      ],
      "execution_count": null,
      "outputs": []
    },
    {
      "cell_type": "code",
      "metadata": {
        "id": "UaYn0-GQ3M88"
      },
      "source": [
        "def longestCommonPrefix(arr,low,high):\n",
        "  if low==high:\n",
        "    return arr[low]\n",
        "  mid=(low+high)//2\n",
        "  result1=longestCommonPrefix(arr,low,mid)\n",
        "  result2=longestCommonPrefix(arr,mid+1,high)\n",
        "  result=commonPrefix(result1,result2)\n",
        "  return result"
      ],
      "execution_count": null,
      "outputs": []
    },
    {
      "cell_type": "code",
      "metadata": {
        "id": "AJ_-JEoe3M0g"
      },
      "source": [
        "arr=['geeksforgeeks', 'geeks', 'geek', 'geezer']"
      ],
      "execution_count": null,
      "outputs": []
    },
    {
      "cell_type": "code",
      "metadata": {
        "id": "4OATw-jM3Y7_"
      },
      "source": [
        "result=longestCommonPrefix(arr,0,len(arr)-1)"
      ],
      "execution_count": null,
      "outputs": []
    },
    {
      "cell_type": "code",
      "metadata": {
        "colab": {
          "base_uri": "https://localhost:8080/"
        },
        "id": "Y_cABodj3aS8",
        "outputId": "c2954d8f-ada7-4816-eea2-313129749c48"
      },
      "source": [
        "print(result)"
      ],
      "execution_count": null,
      "outputs": [
        {
          "output_type": "stream",
          "name": "stdout",
          "text": [
            "gee\n"
          ]
        }
      ]
    },
    {
      "cell_type": "code",
      "metadata": {
        "colab": {
          "base_uri": "https://localhost:8080/"
        },
        "id": "BqVrfAs13dld",
        "outputId": "15cc5136-6a97-4dae-9dd8-2f74da26d617"
      },
      "source": [
        "arr=[\"apple\", \"ape\", \"april\"]\n",
        "result=longestCommonPrefix(arr,0,len(arr)-1)\n",
        "print(result)"
      ],
      "execution_count": null,
      "outputs": [
        {
          "output_type": "stream",
          "name": "stdout",
          "text": [
            "ap\n"
          ]
        }
      ]
    },
    {
      "cell_type": "code",
      "metadata": {
        "id": "V2-2B5yR3o_X"
      },
      "source": [
        "# Median dari dua array dengan divide dan conquer\n",
        "\n",
        "def medianOfArray(arr1,arr2,n):\n",
        "    m1=-1 #first number\n",
        "    m2=-1 #second number\n",
        "    count=0\n",
        "    i=j=0\n",
        "    while count<n+1:\n",
        "        count+=1\n",
        "        if i==n: \n",
        "          m1=m2\n",
        "          m2=arr2[0]\n",
        "          break\n",
        "        if j==n:\n",
        "          m1=m2\n",
        "          m2=arr1[0]\n",
        "          break\n",
        "        if arr1[i]<arr2[j]:\n",
        "          m1=m2\n",
        "          m2=arr1[i]\n",
        "          i+=1\n",
        "        else:\n",
        "          m1=m2\n",
        "          m2=arr2[j]\n",
        "          j+=1\n",
        "    return (m1+m2)//2"
      ],
      "execution_count": null,
      "outputs": []
    },
    {
      "cell_type": "code",
      "metadata": {
        "id": "xGy-H15d6Xq0"
      },
      "source": [
        "arr1=[1, 12, 15, 26, 38]\n",
        "arr2=[2, 13, 17, 30, 45]"
      ],
      "execution_count": null,
      "outputs": []
    },
    {
      "cell_type": "code",
      "metadata": {
        "colab": {
          "base_uri": "https://localhost:8080/"
        },
        "id": "GzDCFpux6h5F",
        "outputId": "c598ea4c-35e7-4771-be82-16d63953a5cb"
      },
      "source": [
        "print(medianOfArray(arr1,arr2,len(arr1)))"
      ],
      "execution_count": null,
      "outputs": [
        {
          "output_type": "stream",
          "name": "stdout",
          "text": [
            "16\n"
          ]
        }
      ]
    },
    {
      "cell_type": "code",
      "metadata": {
        "id": "Fxr0XHnS6xOR"
      },
      "source": [
        "# Floor in sorted array\n",
        "\n",
        "def floorSorted(arr,low,high,x):\n",
        "    #print(low,high)\n",
        "    if low>high:\n",
        "        return -1\n",
        "    \n",
        "    if arr[low]>x:\n",
        "        #print(\"inside\")\n",
        "        return -1\n",
        "    \n",
        "    if arr[high]<=x:\n",
        "        return arr[high]\n",
        "    \n",
        "    mid=(low+high)//2\n",
        "    \n",
        "    if arr[mid]==x:\n",
        "        return arr[mid]\n",
        "\n",
        "    if mid>0 and x>=arr[mid-1] and arr[mid]>x:\n",
        "        return arr[mid-1]\n",
        "\n",
        "    if mid<high and x<arr[mid+1] and x>=arr[mid]:\n",
        "        return arr[mid]\n",
        "    \n",
        "    if x>arr[mid]:\n",
        "        return floorSorted(arr,mid+1,high,x)\n",
        "    else:\n",
        "        return floorSorted(arr,low,mid-1,x)"
      ],
      "execution_count": null,
      "outputs": []
    },
    {
      "cell_type": "code",
      "metadata": {
        "id": "hujiEDG08EKH"
      },
      "source": [
        "arr=[1,2,8,10,12,14,19]"
      ],
      "execution_count": null,
      "outputs": []
    },
    {
      "cell_type": "code",
      "metadata": {
        "id": "zticDCq-8KK1"
      },
      "source": [
        "x=5"
      ],
      "execution_count": null,
      "outputs": []
    },
    {
      "cell_type": "code",
      "metadata": {
        "colab": {
          "base_uri": "https://localhost:8080/"
        },
        "id": "6jGgjQTl8L01",
        "outputId": "39737501-8edc-4b35-b6a0-97e8ffc8eff0"
      },
      "source": [
        "print(floorSorted(arr,0,len(arr)-1,x))"
      ],
      "execution_count": null,
      "outputs": [
        {
          "output_type": "stream",
          "name": "stdout",
          "text": [
            "2\n"
          ]
        }
      ]
    },
    {
      "cell_type": "code",
      "metadata": {
        "id": "OKQG7JmH9fxS"
      },
      "source": [
        "# Mencari nilai terdekat dengan metode divide dan conquer\n",
        "\n",
        "def closestNumber(arr,low,high,x):\n",
        "    if low>high:\n",
        "        return -1\n",
        "    if arr[high]<=x:\n",
        "        return arr[high]\n",
        "    if arr[low]>=x:\n",
        "        return arr[low]\n",
        "    mid=(low+high)//2\n",
        "    if arr[mid]==x:\n",
        "        return arr[mid]\n",
        "    abs_mid=abs(arr[mid]-x)\n",
        "    if mid>0:\n",
        "        abs_left=abs(arr[mid-1]-x)\n",
        "        if abs_left<abs_mid:\n",
        "            return closestNumber(arr,low,mid-1,x)\n",
        "    if mid<high:\n",
        "        abs_right=abs(arr[mid+1]-x)\n",
        "        if abs_right<abs_mid:\n",
        "            return closestNumber(arr,mid+1,high,x)\n",
        "    #print('after')\n",
        "    return arr[mid]"
      ],
      "execution_count": null,
      "outputs": []
    },
    {
      "cell_type": "code",
      "metadata": {
        "id": "CpocEFnL-73q"
      },
      "source": [
        "arr=[2, 5, 6, 7, 8, 9]"
      ],
      "execution_count": null,
      "outputs": []
    },
    {
      "cell_type": "code",
      "metadata": {
        "id": "Epbqd6Wx-_R7"
      },
      "source": [
        "x = 9"
      ],
      "execution_count": null,
      "outputs": []
    },
    {
      "cell_type": "code",
      "metadata": {
        "colab": {
          "base_uri": "https://localhost:8080/"
        },
        "id": "kIoFE5pa_BIQ",
        "outputId": "b3bf5f94-bc5a-4931-d14d-f86b5c046fc6"
      },
      "source": [
        "print(closestNumber(arr,0,len(arr)-1,x))"
      ],
      "execution_count": null,
      "outputs": [
        {
          "output_type": "stream",
          "name": "stdout",
          "text": [
            "9\n"
          ]
        }
      ]
    },
    {
      "cell_type": "code",
      "metadata": {
        "id": "VYfgMJel_HmH"
      },
      "source": [
        "# Mencari Fixed Point dengan metode divide dan conquer\n",
        "\n",
        "def fixedPoint(arr,low,high):\n",
        "    if low>high:\n",
        "        return -1\n",
        "    if arr[high]==high:\n",
        "        return arr[high]\n",
        "    if arr[low]==low:\n",
        "        return arr[low]\n",
        "    mid=(low+high)//2\n",
        "    if arr[mid]==mid:\n",
        "        return arr[mid]\n",
        "    if mid>arr[mid]:\n",
        "        return fixedPoint(arr,mid+1,high)\n",
        "    else:\n",
        "        return fixedPoint(arr,low,mid-1)\n"
      ],
      "execution_count": null,
      "outputs": []
    },
    {
      "cell_type": "code",
      "metadata": {
        "id": "0jKcmCExADuL"
      },
      "source": [
        "arr=[9,1,4,5,2]"
      ],
      "execution_count": null,
      "outputs": []
    },
    {
      "cell_type": "code",
      "metadata": {
        "colab": {
          "base_uri": "https://localhost:8080/"
        },
        "id": "HlL9MHU5AG1f",
        "outputId": "8262a9fb-2a81-4ac2-a779-b905586854db"
      },
      "source": [
        "print(fixedPoint(arr,0,len(arr)-1))"
      ],
      "execution_count": null,
      "outputs": [
        {
          "output_type": "stream",
          "name": "stdout",
          "text": [
            "1\n"
          ]
        }
      ]
    }
  ]
}